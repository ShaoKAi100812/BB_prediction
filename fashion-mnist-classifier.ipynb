{
 "cells": [
  {
   "cell_type": "markdown",
   "metadata": {},
   "source": [
    "## Fashion-MNIST dataset classification"
   ]
  },
  {
   "cell_type": "code",
   "execution_count": 1,
   "metadata": {},
   "outputs": [
    {
     "name": "stderr",
     "output_type": "stream",
     "text": [
      "c:\\Users\\shuang07\\.conda\\envs\\auto_labeling\\lib\\site-packages\\tqdm\\auto.py:22: TqdmWarning: IProgress not found. Please update jupyter and ipywidgets. See https://ipywidgets.readthedocs.io/en/stable/user_install.html\n",
      "  from .autonotebook import tqdm as notebook_tqdm\n"
     ]
    }
   ],
   "source": [
    "# necessary packages\n",
    "import torch\n",
    "from torch import nn\n",
    "from torch.utils.data import DataLoader\n",
    "from torchvision import datasets\n",
    "from torchvision.transforms import ToTensor, Lambda, Compose\n",
    "import torch.nn.functional as F\n",
    "import matplotlib.pyplot as plt\n",
    "\n",
    "# additional packages\n",
    "import random"
   ]
  },
  {
   "cell_type": "markdown",
   "metadata": {},
   "source": [
    "### Download dataset"
   ]
  },
  {
   "cell_type": "code",
   "execution_count": 2,
   "metadata": {},
   "outputs": [
    {
     "name": "stdout",
     "output_type": "stream",
     "text": [
      "ground truth =  Trouser\n",
      "Dataset size =  60000\n"
     ]
    },
    {
     "data": {
      "image/png": "[encoded data removed]",
      "text/plain": [
       "<Figure size 432x288 with 1 Axes>"
      ]
     },
     "metadata": {
      "needs_background": "light"
     },
     "output_type": "display_data"
    }
   ],
   "source": [
    "# get training dataset\n",
    "training_data = datasets.FashionMNIST(\n",
    "    root=\"data\",\n",
    "    train=True,\n",
    "    download=True,\n",
    "    transform=ToTensor()\n",
    ")\n",
    "\n",
    "# get testing dataset\n",
    "testing_data = datasets.FashionMNIST(\n",
    "    root=\"data\",\n",
    "    train=False,\n",
    "    download=True,\n",
    "    transform=ToTensor()\n",
    ")\n",
    "\n",
    "# class names\n",
    "classes = [\n",
    "    \"T-shirt/top\",\n",
    "    \"Trouser\",\n",
    "    \"Pullover\",\n",
    "    \"Dress\",\n",
    "    \"Coat\",\n",
    "    \"Sandal\",\n",
    "    \"Shirt\",\n",
    "    \"Sneaker\",\n",
    "    \"Bag\",\n",
    "    \"Ankle boot\",\n",
    "]\n",
    "\n",
    "# print random item to visualize\n",
    "rand = random.randint(0, 59999)\n",
    "img = training_data.__getitem__(rand)[0].reshape(28,28)\n",
    "plt.imshow(img, cmap='gray')\n",
    "print(\"ground truth = \", classes[training_data.__getitem__(rand)[1]])\n",
    "\n",
    "# print dataset size \n",
    "size = len(training_data)\n",
    "print(\"Dataset size = \", size)"
   ]
  },
  {
   "cell_type": "markdown",
   "metadata": {},
   "source": [
    "### Create dataloader"
   ]
  },
  {
   "cell_type": "code",
   "execution_count": 29,
   "metadata": {},
   "outputs": [
    {
     "name": "stdout",
     "output_type": "stream",
     "text": [
      "Shape of X [N, C, H, W]:  torch.Size([64, 1, 28, 28])\n",
      "Shape of y:  torch.Size([64])\n",
      "Data type of y:  torch.int64\n",
      "tensor([9, 2, 1, 1, 6, 1, 4, 6, 5, 7, 4, 5, 7, 3, 4, 1, 2, 4, 8, 0, 2, 5, 7, 9,\n",
      "        1, 4, 6, 0, 9, 3, 8, 8, 3, 3, 8, 0, 7, 5, 7, 9, 6, 1, 3, 7, 6, 7, 2, 1,\n",
      "        2, 2, 4, 4, 5, 8, 2, 2, 8, 4, 8, 0, 7, 7, 8, 5])\n"
     ]
    }
   ],
   "source": [
    "# setup batchsize\n",
    "batch_size = 64\n",
    "\n",
    "# create dataloader (iterable)\n",
    "training_dataloader = DataLoader(training_data, batch_size=batch_size)\n",
    "testing_dataloader = DataLoader(testing_data, batch_size=batch_size)\n",
    "\n",
    "# visualize the shape\n",
    "for X, y in testing_dataloader:\n",
    "    print(\"Shape of X [N, C, H, W]: \", X.shape)\n",
    "    print(\"Shape of y: \", y.shape)\n",
    "    print(\"Data type of y: \", y.dtype)\n",
    "    print(y)    # need to transfer [64] to [64, 10] by one-hot coding\n",
    "    break"
   ]
  },
  {
   "cell_type": "code",
   "execution_count": 4,
   "metadata": {},
   "outputs": [
    {
     "name": "stdout",
     "output_type": "stream",
     "text": [
      "60000\n"
     ]
    }
   ],
   "source": [
    "# testing block\n",
    "print(len(training_dataloader.dataset))"
   ]
  },
  {
   "cell_type": "markdown",
   "metadata": {},
   "source": [
    "### Define Neural Network"
   ]
  },
  {
   "cell_type": "code",
   "execution_count": 50,
   "metadata": {},
   "outputs": [
    {
     "name": "stdout",
     "output_type": "stream",
     "text": [
      "cuda\n"
     ]
    }
   ],
   "source": [
    "# apply CUDA\n",
    "USE_GPU = True\n",
    "if USE_GPU and torch.cuda.is_available():\n",
    "    device = torch.device('cuda')\n",
    "else:\n",
    "    device = torch.device('cpu')\n",
    "print(device)"
   ]
  },
  {
   "cell_type": "code",
   "execution_count": 51,
   "metadata": {},
   "outputs": [],
   "source": [
    "# define basic model\n",
    "class NeuralNetwork(nn.Module):\n",
    "    def __init__(self) -> None:\n",
    "        super().__init__()\n",
    "        \n",
    "        self.flatten = nn.Flatten()\n",
    "        self.linear = nn.Sequential(\n",
    "            nn.Linear(28*28, 256),\n",
    "            nn.ReLU(),\n",
    "            nn.Linear(256, 128),\n",
    "            nn.ReLU(),\n",
    "            nn.Linear(128, 10)\n",
    "        )\n",
    "        \n",
    "    def forward(self, x):\n",
    "        x = self.flatten(x)\n",
    "        score = self.linear(x)\n",
    "        return score"
   ]
  },
  {
   "cell_type": "code",
   "execution_count": 52,
   "metadata": {},
   "outputs": [
    {
     "name": "stdout",
     "output_type": "stream",
     "text": [
      "NeuralNetwork(\n",
      "  (flatten): Flatten(start_dim=1, end_dim=-1)\n",
      "  (linear): Sequential(\n",
      "    (0): Linear(in_features=784, out_features=256, bias=True)\n",
      "    (1): ReLU()\n",
      "    (2): Linear(in_features=256, out_features=128, bias=True)\n",
      "    (3): ReLU()\n",
      "    (4): Linear(in_features=128, out_features=10, bias=True)\n",
      "  )\n",
      ")\n"
     ]
    }
   ],
   "source": [
    "basic_model = NeuralNetwork().to(device=device)\n",
    "print(basic_model)"
   ]
  },
  {
   "cell_type": "markdown",
   "metadata": {},
   "source": [
    "### Model setup"
   ]
  },
  {
   "cell_type": "code",
   "execution_count": 53,
   "metadata": {},
   "outputs": [],
   "source": [
    "# define parameters\n",
    "learning_rate = 1e-3\n",
    "\n",
    "# define lose function\n",
    "loss_fn = nn.CrossEntropyLoss()\n",
    "\n",
    "# define optimizer\n",
    "optimizer = torch.optim.SGD(basic_model.parameters(), lr=learning_rate)"
   ]
  },
  {
   "cell_type": "code",
   "execution_count": 60,
   "metadata": {},
   "outputs": [],
   "source": [
    "# define functions \n",
    "def train(model, dataloader, loss_fn, optimizer):   # put epoch in main better for loss calculation\n",
    "    # size of dataset\n",
    "    size = len(dataloader.dataset)\n",
    "    \n",
    "    # set model mode\n",
    "    model.train()\n",
    "    \n",
    "    # train batches per epoch\n",
    "    for batch, (X, y) in enumerate(dataloader):\n",
    "        # move data to device\n",
    "        X, y = X.to(device), y.to(device)\n",
    "        \n",
    "        score = model(X)\n",
    "        loss = loss_fn(score, y)\n",
    "        \n",
    "        optimizer.zero_grad()\n",
    "        loss.backward()\n",
    "        optimizer.step()\n",
    "\n",
    "        if batch % 400 == 0:\n",
    "            loss, current = loss.item(), batch*len(X)\n",
    "            print(f\"loss: {loss:>7f}  [{current:>5d}/{size:>5d}]\")\n",
    "            \n",
    "def test(model, dataloader, loss_fn):\n",
    "    # size of dataset\n",
    "    size = len(dataloader.dataset)\n",
    "    \n",
    "    # number of batches\n",
    "    num_batches = len(dataloader)\n",
    "    \n",
    "    # set model mode\n",
    "    model.eval()\n",
    "    \n",
    "    test_loss, correct = 0, 0\n",
    "    \n",
    "    with torch.no_grad():\n",
    "        for X,y in dataloader:\n",
    "            # move data to device\n",
    "            X, y = X.to(device), y.to(device)\n",
    "            \n",
    "            score = model(X)\n",
    "            test_loss += loss_fn(score, y).item()\n",
    "            correct += (score.argmax(1)==y).type(torch.float).sum().item()\n",
    "    \n",
    "    # calculate the average loss and accuracy\n",
    "    test_loss /= num_batches\n",
    "    correct /= size\n",
    "    print(f\"Test Error: \\n Accuracy: {(100*correct):>0.1f}%, Avg loss: {test_loss:>8f} \\n\")"
   ]
  },
  {
   "cell_type": "markdown",
   "metadata": {},
   "source": [
    "### Model training"
   ]
  },
  {
   "cell_type": "code",
   "execution_count": 62,
   "metadata": {},
   "outputs": [
    {
     "name": "stdout",
     "output_type": "stream",
     "text": [
      "Epoch 1\n",
      "-------------------------------\n",
      "loss: 0.575849  [    0/60000]\n",
      "loss: 0.626052  [25600/60000]\n",
      "loss: 0.660755  [51200/60000]\n",
      "Test Error: \n",
      " Accuracy: 77.8%, Avg loss: 0.622737 \n",
      "\n",
      "Epoch 2\n",
      "-------------------------------\n",
      "loss: 0.562961  [    0/60000]\n",
      "loss: 0.619703  [25600/60000]\n",
      "loss: 0.654649  [51200/60000]\n",
      "Test Error: \n",
      " Accuracy: 78.2%, Avg loss: 0.613831 \n",
      "\n",
      "Epoch 3\n",
      "-------------------------------\n",
      "loss: 0.551042  [    0/60000]\n",
      "loss: 0.613743  [25600/60000]\n",
      "loss: 0.649481  [51200/60000]\n",
      "Test Error: \n",
      " Accuracy: 78.6%, Avg loss: 0.605542 \n",
      "\n",
      "Epoch 4\n",
      "-------------------------------\n",
      "loss: 0.539916  [    0/60000]\n",
      "loss: 0.607990  [25600/60000]\n",
      "loss: 0.644962  [51200/60000]\n",
      "Test Error: \n",
      " Accuracy: 78.8%, Avg loss: 0.597850 \n",
      "\n",
      "Epoch 5\n",
      "-------------------------------\n",
      "loss: 0.529430  [    0/60000]\n",
      "loss: 0.602527  [25600/60000]\n",
      "loss: 0.641037  [51200/60000]\n",
      "Test Error: \n",
      " Accuracy: 79.1%, Avg loss: 0.590688 \n",
      "\n",
      "Epoch 6\n",
      "-------------------------------\n",
      "loss: 0.519600  [    0/60000]\n",
      "loss: 0.597228  [25600/60000]\n",
      "loss: 0.637424  [51200/60000]\n",
      "Test Error: \n",
      " Accuracy: 79.4%, Avg loss: 0.584005 \n",
      "\n",
      "Epoch 7\n",
      "-------------------------------\n",
      "loss: 0.510277  [    0/60000]\n",
      "loss: 0.591754  [25600/60000]\n",
      "loss: 0.634411  [51200/60000]\n",
      "Test Error: \n",
      " Accuracy: 79.6%, Avg loss: 0.577743 \n",
      "\n",
      "Epoch 8\n",
      "-------------------------------\n",
      "loss: 0.501413  [    0/60000]\n",
      "loss: 0.586441  [25600/60000]\n",
      "loss: 0.631611  [51200/60000]\n",
      "Test Error: \n",
      " Accuracy: 79.8%, Avg loss: 0.571879 \n",
      "\n",
      "Epoch 9\n",
      "-------------------------------\n",
      "loss: 0.493037  [    0/60000]\n",
      "loss: 0.581123  [25600/60000]\n",
      "loss: 0.629057  [51200/60000]\n",
      "Test Error: \n",
      " Accuracy: 80.0%, Avg loss: 0.566365 \n",
      "\n",
      "Epoch 10\n",
      "-------------------------------\n",
      "loss: 0.485114  [    0/60000]\n",
      "loss: 0.575757  [25600/60000]\n",
      "loss: 0.626618  [51200/60000]\n",
      "Test Error: \n",
      " Accuracy: 80.2%, Avg loss: 0.561154 \n",
      "\n",
      "Done!!\n"
     ]
    }
   ],
   "source": [
    "# set epoch\n",
    "epoch = 10\n",
    "\n",
    "# start training\n",
    "for t in range(epoch):\n",
    "    print(f\"Epoch {t+1}\\n-------------------------------\")\n",
    "    train(basic_model, training_dataloader, loss_fn, optimizer)\n",
    "    test(basic_model, testing_dataloader, loss_fn)\n",
    "print(\"Done!!\")\n",
    "\n",
    "# model saving\n",
    "torch.save(basic_model.state_dict(), \"model.pth\")"
   ]
  },
  {
   "cell_type": "markdown",
   "metadata": {},
   "source": [
    "### Model reloading"
   ]
  },
  {
   "cell_type": "code",
   "execution_count": 11,
   "metadata": {},
   "outputs": [
    {
     "data": {
      "text/plain": [
       "<All keys matched successfully>"
      ]
     },
     "execution_count": 11,
     "metadata": {},
     "output_type": "execute_result"
    }
   ],
   "source": [
    "# load model\n",
    "model_trained = NeuralNetwork()\n",
    "model_trained.load_state_dict(torch.load(\"model.pth\"))"
   ]
  },
  {
   "cell_type": "markdown",
   "metadata": {},
   "source": [
    "### Prediction"
   ]
  },
  {
   "cell_type": "code",
   "execution_count": 34,
   "metadata": {},
   "outputs": [
    {
     "name": "stdout",
     "output_type": "stream",
     "text": [
      "prediction：\"Shirt\" / ground truth：\"Shirt\"\n"
     ]
    },
    {
     "data": {
      "text/plain": [
       "<matplotlib.image.AxesImage at 0x1f0f6b2edf0>"
      ]
     },
     "execution_count": 34,
     "metadata": {},
     "output_type": "execute_result"
    },
    {
     "data": {
      "image/png": "[encoded data removed]",
      "text/plain": [
       "<Figure size 640x480 with 1 Axes>"
      ]
     },
     "metadata": {},
     "output_type": "display_data"
    }
   ],
   "source": [
    "# class names\n",
    "classes = [\n",
    "    \"T-shirt/top\",\n",
    "    \"Trouser\",\n",
    "    \"Pullover\",\n",
    "    \"Dress\",\n",
    "    \"Coat\",\n",
    "    \"Sandal\",\n",
    "    \"Shirt\",\n",
    "    \"Sneaker\",\n",
    "    \"Bag\",\n",
    "    \"Ankle boot\",\n",
    "]\n",
    "\n",
    "# get random data from testing dataset\n",
    "rand = random.randint(0, 9999)\n",
    "x, y = testing_data[rand][0], testing_data[rand][1]\n",
    "\n",
    "# switch mode\n",
    "model_trained.eval()\n",
    "\n",
    "with torch.no_grad():\n",
    "    pred = model_trained(x)\n",
    "\n",
    "    predicted, actual = classes[pred[0].argmax(0)], classes[y]\n",
    "    print(f'prediction：\"{predicted}\" / ground truth：\"{actual}\"')\n",
    "    \n",
    "# print random item to visualize\n",
    "img = testing_data.__getitem__(rand)[0].reshape(28,28)\n",
    "plt.imshow(img, cmap='gray')"
   ]
  },
  {
   "cell_type": "code",
   "execution_count": null,
   "metadata": {},
   "outputs": [],
   "source": []
  }
 ],
 "metadata": {
  "kernelspec": {
   "display_name": "Python 3.8.13 ('auto_labeling')",
   "language": "python",
   "name": "python3"
  },
  "language_info": {
   "codemirror_mode": {
    "name": "ipython",
    "version": 3
   },
   "file_extension": ".py",
   "mimetype": "text/x-python",
   "name": "python",
   "nbconvert_exporter": "python",
   "pygments_lexer": "ipython3",
   "version": "3.8.13"
  },
  "orig_nbformat": 4,
  "vscode": {
   "interpreter": {
    "hash": "ec129e0590d45a22483b850cd1c473456f2c02a48b73be1599d608a53736fee7"
   }
  }
 },
 "nbformat": 4,
 "nbformat_minor": 2
}
