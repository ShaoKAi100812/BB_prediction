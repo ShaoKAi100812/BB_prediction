{
 "cells": [
  {
   "cell_type": "code",
   "execution_count": 106,
   "metadata": {},
   "outputs": [],
   "source": [
    "import warnings\n",
    "warnings.filterwarnings('ignore')\n",
    "\n",
    "# necessary packages\n",
    "import torch\n",
    "from torch import nn\n",
    "from torch.utils.data import DataLoader\n",
    "from torchvision import datasets\n",
    "from torchvision.transforms import ToTensor, Lambda, Compose\n",
    "import torch.nn.functional as F\n",
    "import matplotlib.pyplot as plt\n",
    "import random\n",
    "\n",
    "# additional certain short functions\n",
    "from torch import is_tensor\n",
    "from matplotlib.pyplot import pause\n",
    "from random import randint\n",
    "from copy import deepcopy\n",
    "from math import floor, ceil\n",
    "from torch import stack\n",
    "from torch import cat"
   ]
  },
  {
   "cell_type": "code",
   "execution_count": 107,
   "metadata": {},
   "outputs": [
    {
     "name": "stdout",
     "output_type": "stream",
     "text": [
      "ground truth =  Bag\n",
      "Dataset size =  60000\n"
     ]
    },
    {
     "data": {
      "image/png": "[encoded data removed]",
      "text/plain": [
       "<Figure size 640x480 with 1 Axes>"
      ]
     },
     "metadata": {},
     "output_type": "display_data"
    }
   ],
   "source": [
    "# get training dataset\n",
    "training_data = datasets.FashionMNIST(\n",
    "    root=\"data\",\n",
    "    train=True,\n",
    "    download=True,\n",
    "    transform=ToTensor()\n",
    ")\n",
    "\n",
    "# get testing dataset\n",
    "testing_data = datasets.FashionMNIST(\n",
    "    root=\"data\",\n",
    "    train=False,\n",
    "    download=True,\n",
    "    transform=ToTensor()\n",
    ")\n",
    "\n",
    "# class names\n",
    "classes = [\n",
    "    \"T-shirt/top\",\n",
    "    \"Trouser\",\n",
    "    \"Pullover\",\n",
    "    \"Dress\",\n",
    "    \"Coat\",\n",
    "    \"Sandal\",\n",
    "    \"Shirt\",\n",
    "    \"Sneaker\",\n",
    "    \"Bag\",\n",
    "    \"Ankle boot\",\n",
    "]\n",
    "\n",
    "# print random item to visualize\n",
    "rand = random.randint(0, 59999)\n",
    "img = training_data.data[rand]\n",
    "plt.imshow(img, cmap='gray')\n",
    "print(\"ground truth = \", training_data.classes[training_data.targets[rand]])\n",
    "\n",
    "# print dataset size \n",
    "size = len(training_data)\n",
    "print(\"Dataset size = \", size)"
   ]
  },
  {
   "cell_type": "code",
   "execution_count": 195,
   "metadata": {},
   "outputs": [],
   "source": [
    "# object picking\n",
    "def pick(dataset: datasets, name: list, number: int) -> list:\n",
    "    i = 0\n",
    "    counter = [0] * len(name)\n",
    "    score = []\n",
    "    while True:\n",
    "        if dataset.classes[dataset.targets[i]] in name and \\\n",
    "            counter[name.index(dataset.classes[dataset.targets[i]])] < number:\n",
    "                if score == []:\n",
    "                    score = dataset.data[i].reshape(1, 28, 28)\n",
    "                else:\n",
    "                    score = cat((score, dataset.data[i].reshape(1, 28, 28)), dim=0)\n",
    "                counter[name.index(dataset.classes[dataset.targets[i]])] += 1\n",
    "        i += 1\n",
    "        correct = 0\n",
    "        for j in range(len(name)):\n",
    "            if counter[j] == number:\n",
    "                correct += 1\n",
    "        if correct == len(name):\n",
    "            return score\n",
    "        \n",
    "# sequential album extension\n",
    "def album(dataset: datasets, is_rand_stride: bool, is_rand_pos: bool) -> torch.Tensor:\n",
    "    expansion = []      # list after expanded\n",
    "    temp = []           # list after every movement\n",
    "    stride = 5          # default stride\n",
    "    pos = [14, 27]      # default starting position\n",
    "    num_list = [0] * len(dataset)   # record number of each album\n",
    "    \n",
    "    # expand and clean\n",
    "    for i in range(len(dataset)):\n",
    "        if i == 0:\n",
    "            expansion = dataset[i].repeat(3, 4).reshape(1, 28*3, 28*4)\n",
    "        else:\n",
    "            buffer = dataset[i].repeat(3, 4).reshape(1, 28*3, 28*4)\n",
    "            expansion = cat((expansion, buffer), dim=0)\n",
    "        expansion[i][:, 28:] = 0\n",
    "        expansion[i][28:, :] = 0\n",
    "    expansion = torch.tensor(expansion, dtype=torch.float32)\n",
    "    print(\"expansion size =\", expansion.shape)\n",
    "    \n",
    "    # random stride\n",
    "    for i in range(len(num_list)):\n",
    "        # define stride value\n",
    "        if is_rand_stride == True: stride = randint(3, 7)\n",
    "        # album generation\n",
    "        first_frame = deepcopy(expansion[i])\n",
    "        next_frame = deepcopy(expansion[i])\n",
    "        y = deepcopy(expansion[i])\n",
    "        for j in range(floor((112-28)/stride)):\n",
    "            # moving part (1-dim only)\n",
    "            for z in range(28):\n",
    "                next_frame[:, 28+stride*(j+1)-(z+1)] = next_frame[:, 28+stride*j-(z+1)]\n",
    "            next_frame[:, :stride*(j+1)+1] = 0  # clean other area\n",
    "            # sequencing part\n",
    "            if j == 0: y = stack((first_frame, next_frame)) \n",
    "            else: y = cat((y, next_frame.reshape(1, 28*3, 28*4)), dim=0)\n",
    "        # record number\n",
    "        num_list[i] = len(y)\n",
    "        # sequencing part\n",
    "        if i == 0: temp = y\n",
    "        else: temp = cat((temp, y), dim=0)\n",
    "\n",
    "    # random position\n",
    "    # TO BE DONE!! (整串移動)\n",
    "    for i in range(len(num_list)):\n",
    "        # 起始點位置需要改變\n",
    "        pass\n",
    "    \n",
    "    # fatch up last frames\n",
    "    # TO BE DONE!! (補齊後面帧數)\n",
    "    \n",
    "    score = temp\n",
    "    print(\"score shape =\", score.shape)\n",
    "    print(\"numbers of each album =\", num_list)\n",
    "        \n",
    "    return score, num_list"
   ]
  },
  {
   "cell_type": "code",
   "execution_count": 204,
   "metadata": {},
   "outputs": [
    {
     "ename": "NameError",
     "evalue": "name 'y' is not defined",
     "output_type": "error",
     "traceback": [
      "\u001b[1;31m---------------------------------------------------------------------------\u001b[0m",
      "\u001b[1;31mNameError\u001b[0m                                 Traceback (most recent call last)",
      "Cell \u001b[1;32mIn [204], line 2\u001b[0m\n\u001b[0;32m      1\u001b[0m \u001b[39m# references\u001b[39;00m\n\u001b[1;32m----> 2\u001b[0m y_moved \u001b[39m=\u001b[39m deepcopy(y)\n\u001b[0;32m      3\u001b[0m rand_x \u001b[39m=\u001b[39m randint(\u001b[39m14\u001b[39m, \u001b[39m27\u001b[39m)\n\u001b[0;32m      4\u001b[0m rand_y \u001b[39m=\u001b[39m randint(\u001b[39m27\u001b[39m, \u001b[39m28\u001b[39m\u001b[39m*\u001b[39m\u001b[39m3\u001b[39m\u001b[39m-\u001b[39m\u001b[39m1\u001b[39m)\n",
      "\u001b[1;31mNameError\u001b[0m: name 'y' is not defined"
     ]
    }
   ],
   "source": [
    "# references usage\n",
    "y_moved = deepcopy(y)\n",
    "rand_x = randint(14, 27)\n",
    "rand_y = randint(27, 28*3-1)\n",
    "print(\"new start position [x, y] = [\", rand_x,\",\", rand_y, \"]\")\n",
    "\n",
    "# all frames move left parellel\n",
    "for i in range(floor((112-28)/stride)+1):\n",
    "   for j in range(28):\n",
    "      for k in range(28):\n",
    "         y_moved[i][rand_y-j][rand_x+stride*i-k] = y_moved[i][27-j][27+stride*i-k]\n",
    "   \n",
    "   # clean other area\n",
    "   y_moved[i][:rand_y-28+1, :] = 0\n",
    "   y_moved[i][:, rand_x+stride*i+1:] = 0\n",
    "   \n",
    "   # show info\n",
    "   plt.imshow(y_moved[i], cmap='gray')\n",
    "   pause(0.01)"
   ]
  },
  {
   "cell_type": "code",
   "execution_count": 203,
   "metadata": {},
   "outputs": [
    {
     "name": "stdout",
     "output_type": "stream",
     "text": [
      "expansion size = torch.Size([40, 84, 112])\n",
      "score shape = torch.Size([755, 84, 112])\n",
      "numbers of each album = [22, 22, 22, 15, 15, 17, 17, 22, 15, 29, 17, 17, 17, 17, 13, 15, 15, 29, 29, 13, 15, 17, 22, 22, 22, 22, 17, 22, 15, 15, 22, 15, 13, 29, 13, 13, 22, 29, 15, 17]\n",
      "40\n",
      "44\n"
     ]
    }
   ],
   "source": [
    "dataset = training_data\n",
    "name = [\n",
    "    \"Shirt\",\n",
    "    \"Sneaker\",\n",
    "]\n",
    "number = 20\n",
    "\n",
    "test = pick(dataset, name, number)\n",
    "test, num_list = album(test, is_rand_stride = True, is_rand_pos = False)\n",
    "print(len(num_list))\n",
    "print(sum(num_list[:2]))\n",
    "\n",
    "# for i in range (number*len(name)):\n",
    "#     plt.imshow(test[i], cmap='gray')\n",
    "#     pause(0.1)"
   ]
  },
  {
   "cell_type": "code",
   "execution_count": 102,
   "metadata": {},
   "outputs": [
    {
     "name": "stdout",
     "output_type": "stream",
     "text": [
      "torch.Size([28, 28])\n",
      "True\n",
      "torch.Size([84, 112])\n"
     ]
    },
    {
     "data": {
      "text/plain": [
       "<matplotlib.image.AxesImage at 0x1fd1d29a790>"
      ]
     },
     "execution_count": 102,
     "metadata": {},
     "output_type": "execute_result"
    },
    {
     "data": {
      "image/png": "[encoded data removed]",
      "text/plain": [
       "<Figure size 640x480 with 1 Axes>"
      ]
     },
     "metadata": {},
     "output_type": "display_data"
    }
   ],
   "source": [
    "# from torch import is_tensor\n",
    "\n",
    "# normalization\n",
    "aug_sample = training_data.data[rand]/255.\n",
    "\n",
    "# expand and clean\n",
    "print(aug_sample.size())\n",
    "aug_sample = aug_sample.repeat(3, 4)\n",
    "aug_sample[:, 28:] = 0\n",
    "aug_sample[28:, :] = 0\n",
    "\n",
    "# print info\n",
    "print(is_tensor(aug_sample))\n",
    "print(aug_sample.size())\n",
    "plt.imshow(aug_sample, cmap='gray')"
   ]
  },
  {
   "cell_type": "code",
   "execution_count": 30,
   "metadata": {},
   "outputs": [
    {
     "name": "stdout",
     "output_type": "stream",
     "text": [
      "0\n",
      "2020\n",
      "[0, 0, 0, 0, 0, 0, 0, 0, 0, 0]\n"
     ]
    }
   ],
   "source": []
  }
 ],
 "metadata": {
  "kernelspec": {
   "display_name": "Python 3.8.13 ('auto_labeling')",
   "language": "python",
   "name": "python3"
  },
  "language_info": {
   "codemirror_mode": {
    "name": "ipython",
    "version": 3
   },
   "file_extension": ".py",
   "mimetype": "text/x-python",
   "name": "python",
   "nbconvert_exporter": "python",
   "pygments_lexer": "ipython3",
   "version": "3.8.13"
  },
  "orig_nbformat": 4,
  "vscode": {
   "interpreter": {
    "hash": "ec129e0590d45a22483b850cd1c473456f2c02a48b73be1599d608a53736fee7"
   }
  }
 },
 "nbformat": 4,
 "nbformat_minor": 2
}
