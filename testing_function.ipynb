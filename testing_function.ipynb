{
 "cells": [
  {
   "cell_type": "code",
   "execution_count": 4,
   "metadata": {},
   "outputs": [],
   "source": [
    "import warnings\n",
    "warnings.filterwarnings('ignore')\n",
    "\n",
    "# necessary packages\n",
    "import torch\n",
    "from torch import nn\n",
    "from torch.utils.data import DataLoader\n",
    "from torchvision import datasets\n",
    "from torchvision.transforms import ToTensor, Lambda, Compose\n",
    "import torch.nn.functional as F\n",
    "import matplotlib.pyplot as plt\n",
    "import random\n",
    "\n",
    "# additional certain short functions\n",
    "from torch import is_tensor\n",
    "from matplotlib.pyplot import pause\n",
    "from random import randint\n",
    "from copy import deepcopy\n",
    "from math import floor, ceil\n",
    "from torch import stack\n",
    "from torch import cat"
   ]
  },
  {
   "cell_type": "code",
   "execution_count": 5,
   "metadata": {},
   "outputs": [
    {
     "name": "stdout",
     "output_type": "stream",
     "text": [
      "ground truth =  Sandal\n",
      "Dataset size =  60000\n"
     ]
    },
    {
     "data": {
      "image/png": "[encoded data removed]",
      "text/plain": [
       "<Figure size 640x480 with 1 Axes>"
      ]
     },
     "metadata": {},
     "output_type": "display_data"
    }
   ],
   "source": [
    "# get training dataset\n",
    "training_data = datasets.FashionMNIST(\n",
    "    root=\"data\",\n",
    "    train=True,\n",
    "    download=True,\n",
    "    transform=ToTensor()\n",
    ")\n",
    "\n",
    "# get testing dataset\n",
    "testing_data = datasets.FashionMNIST(\n",
    "    root=\"data\",\n",
    "    train=False,\n",
    "    download=True,\n",
    "    transform=ToTensor()\n",
    ")\n",
    "\n",
    "# class names\n",
    "classes = [\n",
    "    \"T-shirt/top\",\n",
    "    \"Trouser\",\n",
    "    \"Pullover\",\n",
    "    \"Dress\",\n",
    "    \"Coat\",\n",
    "    \"Sandal\",\n",
    "    \"Shirt\",\n",
    "    \"Sneaker\",\n",
    "    \"Bag\",\n",
    "    \"Ankle boot\",\n",
    "]\n",
    "\n",
    "# print random item to visualize\n",
    "rand = random.randint(0, 59999)\n",
    "img = training_data.data[rand]\n",
    "plt.imshow(img, cmap='gray')\n",
    "print(\"ground truth = \", training_data.classes[training_data.targets[rand]])\n",
    "\n",
    "# print dataset size \n",
    "size = len(training_data)\n",
    "print(\"Dataset size = \", size)"
   ]
  },
  {
   "cell_type": "code",
   "execution_count": 6,
   "metadata": {},
   "outputs": [],
   "source": [
    "# object picking function\n",
    "def pick(dataset: datasets, name: list, number: int) -> list:\n",
    "    i = 0\n",
    "    counter = [0] * len(name)\n",
    "    score = []\n",
    "    while True:\n",
    "        if dataset.classes[dataset.targets[i]] in name and \\\n",
    "            counter[name.index(dataset.classes[dataset.targets[i]])] < 20:\n",
    "                score = cat((score, dataset.data[i]), dim=0)\n",
    "                counter[name.index(dataset.classes[dataset.targets[i]])] += 1\n",
    "        i += 1\n",
    "        correct = 0\n",
    "        for j in range(len(name)):\n",
    "            if counter[j] == 20:\n",
    "                correct += 1\n",
    "        if correct == len(name):\n",
    "            break"
   ]
  },
  {
   "cell_type": "code",
   "execution_count": 1,
   "metadata": {},
   "outputs": [
    {
     "name": "stdout",
     "output_type": "stream",
     "text": [
      "0\n",
      "2020\n",
      "[0, 0, 0, 0, 0, 0, 0, 0, 0, 0]\n"
     ]
    }
   ],
   "source": [
    "l = [\"apple\", \"apple\", \"candle\"]\n",
    "print(l.index(\"apple\"))\n",
    "\n",
    "thisdict = {\n",
    "    0 : \"Ford\",\n",
    "    1 : \"Mustang\",\n",
    "    2 : 1964,\n",
    "    3 : 2020\n",
    "}\n",
    "print(thisdict[3])\n",
    "\n",
    "counter = [0] * 10\n",
    "print(counter)"
   ]
  }
 ],
 "metadata": {
  "kernelspec": {
   "display_name": "Python 3.8.13 ('auto_labeling')",
   "language": "python",
   "name": "python3"
  },
  "language_info": {
   "codemirror_mode": {
    "name": "ipython",
    "version": 3
   },
   "file_extension": ".py",
   "mimetype": "text/x-python",
   "name": "python",
   "nbconvert_exporter": "python",
   "pygments_lexer": "ipython3",
   "version": "3.8.13"
  },
  "orig_nbformat": 4,
  "vscode": {
   "interpreter": {
    "hash": "ec129e0590d45a22483b850cd1c473456f2c02a48b73be1599d608a53736fee7"
   }
  }
 },
 "nbformat": 4,
 "nbformat_minor": 2
}
