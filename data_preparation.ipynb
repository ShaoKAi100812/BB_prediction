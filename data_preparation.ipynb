{
 "cells": [
  {
   "attachments": {},
   "cell_type": "markdown",
   "metadata": {},
   "source": [
    "## Custom data preparation"
   ]
  },
  {
   "attachments": {},
   "cell_type": "markdown",
   "metadata": {},
   "source": [
    "### Packages import"
   ]
  },
  {
   "cell_type": "code",
   "execution_count": 1,
   "metadata": {},
   "outputs": [],
   "source": [
    "# ignore for possible warnings\n",
    "import warnings\n",
    "warnings.filterwarnings('ignore')\n",
    "\n",
    "# necessary packages\n",
    "from torchvision import datasets\n",
    "from torchvision.transforms import ToTensor\n",
    "\n",
    "# custom packages\n",
    "from data_generate import *\n",
    "from data_io import *\n",
    "\n",
    "# testing purpose\n",
    "import matplotlib.pyplot as plt\n",
    "from matplotlib.pyplot import pause"
   ]
  },
  {
   "attachments": {},
   "cell_type": "markdown",
   "metadata": {},
   "source": [
    "### Original data from Fashion-MNIST"
   ]
  },
  {
   "cell_type": "code",
   "execution_count": 2,
   "metadata": {},
   "outputs": [],
   "source": [
    "# get training dataset\n",
    "training_data = datasets.FashionMNIST(\n",
    "    root=\"data\",\n",
    "    train=True,\n",
    "    download=True,\n",
    "    transform=ToTensor()\n",
    ")\n",
    "\n",
    "# get testing dataset\n",
    "testing_data = datasets.FashionMNIST(\n",
    "    root=\"data\",\n",
    "    train=False,\n",
    "    download=True,\n",
    "    transform=ToTensor()\n",
    ")\n",
    "\n",
    "# class names\n",
    "classes = [\n",
    "    \"T-shirt/top\",\n",
    "    \"Trouser\",\n",
    "    \"Pullover\",\n",
    "    \"Dress\",\n",
    "    \"Coat\",\n",
    "    \"Sandal\",\n",
    "    \"Shirt\",\n",
    "    \"Sneaker\",\n",
    "    \"Bag\",\n",
    "    \"Ankle boot\",\n",
    "]"
   ]
  },
  {
   "attachments": {},
   "cell_type": "markdown",
   "metadata": {},
   "source": [
    "### custom information setup"
   ]
  },
  {
   "cell_type": "code",
   "execution_count": 3,
   "metadata": {},
   "outputs": [],
   "source": [
    "# 5 closer classes on UMAP\n",
    "target_02346 = [\n",
    "    \"T-shirt/top\",\n",
    "    \"Pullover\",\n",
    "    \"Dress\",\n",
    "    \"Coat\",\n",
    "    \"Shirt\",\n",
    "]\n",
    "\n",
    "# 3 closer classes on UMAP but far from upper 5 classes\n",
    "target_579 = [\n",
    "    \"Sandal\",\n",
    "    \"Sneaker\",\n",
    "    \"Ankle boot\",\n",
    "]\n",
    "\n",
    "# 2 separate classes on UMAP\n",
    "target_18 = [\n",
    "    \"Trouser\",\n",
    "    \"Bag\",\n",
    "]\n",
    "\n",
    "train_number = 10\n",
    "test_number = 2"
   ]
  },
  {
   "cell_type": "code",
   "execution_count": 4,
   "metadata": {},
   "outputs": [
    {
     "name": "stdout",
     "output_type": "stream",
     "text": [
      "torch.Size([1088, 84, 112]) torch.Size([1088, 1])\n",
      "torch.Size([186, 84, 112]) torch.Size([186, 1])\n",
      "torch.Size([133, 84, 112]) torch.Size([133, 1])\n",
      "torch.Size([66, 84, 112]) torch.Size([66, 1])\n"
     ]
    }
   ],
   "source": [
    "# generate training data of target_02346\n",
    "train_02346 = pick(training_data, target_02346, train_number)\n",
    "train_02346, train_number_list_02346, train_stride_list_02346 = album(train_02346, is_rand_stride = True, is_rand_pos = True)\n",
    "training_image_02346 = dif_frame(train_02346, train_number_list_02346)\n",
    "training_gt_02346 = vector(train_number_list_02346, train_stride_list_02346)\n",
    "\n",
    "# generate testing data of target_02346\n",
    "test_02346 = pick(testing_data, target_02346, test_number)\n",
    "test_02346, test_number_list_02346, test_stride_list_02346 = album(test_02346, is_rand_stride = True, is_rand_pos = True)\n",
    "testing_image_02346 = dif_frame(test_02346, test_number_list_02346)\n",
    "testing_gt_02346 = vector(test_number_list_02346, test_stride_list_02346)\n",
    "\n",
    "# generate testing data of target_579\n",
    "test_579 = pick(testing_data, target_579, test_number)\n",
    "test_579, test_number_list_579, test_stride_list_579 = album(test_579, is_rand_stride = True, is_rand_pos = True)\n",
    "testing_image_579 = dif_frame(test_579, test_number_list_579)\n",
    "testing_gt_579 = vector(test_number_list_579, test_stride_list_579)\n",
    "\n",
    "# generate testing data of target_18\n",
    "test_18 = pick(testing_data, target_18, test_number)\n",
    "test_18, test_number_list_18, test_stride_list_18 = album(test_18, is_rand_stride = True, is_rand_pos = True)\n",
    "testing_image_18 = dif_frame(test_18, test_number_list_18)\n",
    "testing_gt_18 = vector(test_number_list_18, test_stride_list_18)\n",
    "\n",
    "print(training_image_02346.shape, training_gt_02346.shape)\n",
    "print(testing_image_02346.shape, testing_gt_02346.shape)\n",
    "print(testing_image_579.shape, testing_gt_579.shape)\n",
    "print(testing_image_18.shape, testing_gt_18.shape)"
   ]
  },
  {
   "cell_type": "code",
   "execution_count": 5,
   "metadata": {},
   "outputs": [],
   "source": [
    "# define file names\n",
    "CSV_NAME_TRAIN_02346 = 'train_02346.csv'\n",
    "IMAGE_NAME_TRAIN_02346 = 'train_02346'\n",
    "CSV_NAME_TEST_02346 = 'test_02346.csv'\n",
    "IMAGE_NAME_TEST_02346 = 'test_02346'\n",
    "CSV_NAME_TEST_579 = 'test_579.csv'\n",
    "IMAGE_NAME_TEST_579 = 'test_579'\n",
    "CSV_NAME_TEST_18 = 'test_18.csv'\n",
    "IMAGE_NAME_TEST_18 = 'test_18'\n",
    "\n",
    "# export data\n",
    "image_export(training_image_02346, IMAGE_NAME_TRAIN_02346)\n",
    "gt_export(training_gt_02346, CSV_NAME_TRAIN_02346)\n",
    "image_export(testing_image_02346, IMAGE_NAME_TEST_02346)\n",
    "gt_export(testing_gt_02346, CSV_NAME_TEST_02346)\n",
    "image_export(testing_image_579, IMAGE_NAME_TEST_579)\n",
    "gt_export(testing_gt_579, CSV_NAME_TEST_579)\n",
    "image_export(testing_image_18, IMAGE_NAME_TEST_18)\n",
    "gt_export(testing_gt_18, CSV_NAME_TEST_18)\n"
   ]
  },
  {
   "cell_type": "code",
   "execution_count": null,
   "metadata": {},
   "outputs": [],
   "source": [
    "# gt = gt_import(CSV_NAME)\n",
    "# image = image_import(gt, IMAGE_NAME)\n",
    "# print(image.shape)\n",
    "# print(image.dtype)\n",
    "# print(gt.dtype)\n",
    "\n",
    "# # view image\n",
    "# for i in range(len(image)):\n",
    "#     plt.imshow(image[i], cmap='gray')\n",
    "#     pause(0.01)"
   ]
  }
 ],
 "metadata": {
  "kernelspec": {
   "display_name": "Python 3.8.13 ('auto_labeling')",
   "language": "python",
   "name": "python3"
  },
  "language_info": {
   "codemirror_mode": {
    "name": "ipython",
    "version": 3
   },
   "file_extension": ".py",
   "mimetype": "text/x-python",
   "name": "python",
   "nbconvert_exporter": "python",
   "pygments_lexer": "ipython3",
   "version": "3.8.13"
  },
  "orig_nbformat": 4,
  "vscode": {
   "interpreter": {
    "hash": "ec129e0590d45a22483b850cd1c473456f2c02a48b73be1599d608a53736fee7"
   }
  }
 },
 "nbformat": 4,
 "nbformat_minor": 2
}
