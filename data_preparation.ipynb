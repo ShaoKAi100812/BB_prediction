{
 "cells": [
  {
   "attachments": {},
   "cell_type": "markdown",
   "metadata": {},
   "source": [
    "## Custom data preparation"
   ]
  },
  {
   "attachments": {},
   "cell_type": "markdown",
   "metadata": {},
   "source": [
    "### Packages import"
   ]
  },
  {
   "cell_type": "code",
   "execution_count": 1,
   "metadata": {},
   "outputs": [],
   "source": [
    "# ignore for possible warnings\n",
    "import warnings\n",
    "warnings.filterwarnings('ignore')\n",
    "\n",
    "# necessary packages\n",
    "from torch.utils.data import Dataset, DataLoader\n",
    "from torchvision import datasets\n",
    "from torchvision.transforms import ToTensor, Lambda, Compose\n",
    "import matplotlib.pyplot as plt\n",
    "from matplotlib.pyplot import pause"
   ]
  },
  {
   "attachments": {},
   "cell_type": "markdown",
   "metadata": {},
   "source": [
    "### Original data from Fashion-MNIST"
   ]
  },
  {
   "cell_type": "code",
   "execution_count": 2,
   "metadata": {},
   "outputs": [],
   "source": [
    "# get training dataset\n",
    "training_data = datasets.FashionMNIST(\n",
    "    root=\"data\",\n",
    "    train=True,\n",
    "    download=True,\n",
    "    transform=ToTensor()\n",
    ")\n",
    "\n",
    "# get testing dataset\n",
    "testing_data = datasets.FashionMNIST(\n",
    "    root=\"data\",\n",
    "    train=False,\n",
    "    download=True,\n",
    "    transform=ToTensor()\n",
    ")\n",
    "\n",
    "# class names\n",
    "classes = [\n",
    "    \"T-shirt/top\",\n",
    "    \"Trouser\",\n",
    "    \"Pullover\",\n",
    "    \"Dress\",\n",
    "    \"Coat\",\n",
    "    \"Sandal\",\n",
    "    \"Shirt\",\n",
    "    \"Sneaker\",\n",
    "    \"Bag\",\n",
    "    \"Ankle boot\",\n",
    "]"
   ]
  },
  {
   "cell_type": "code",
   "execution_count": 3,
   "metadata": {},
   "outputs": [
    {
     "name": "stdout",
     "output_type": "stream",
     "text": [
      "expansion shape = torch.Size([4, 84, 112])\n",
      "temp shape = torch.Size([71, 84, 112])\n",
      "numbers of each original album = [17, 22, 17, 15]\n",
      "score shape = torch.Size([83, 84, 112])\n",
      "numbers of each final album = [20, 26, 20, 17]\n",
      "length of number_lsit = 4\n",
      "sum of first 2 elements in number_list = 46\n",
      "stride_list = [5, 4, 5, 6]\n"
     ]
    }
   ],
   "source": [
    "from data_generate import *\n",
    "\n",
    "dataset = training_data\n",
    "name = [\n",
    "    \"Shirt\",\n",
    "    \"Sneaker\",\n",
    "    \"Bag\",\n",
    "    \"Ankle boot\",\n",
    "]\n",
    "number = 1\n",
    "\n",
    "test = pick(dataset, name, number)\n",
    "test, number_list, stride_list = album(test, is_rand_stride = True, is_rand_pos = True)\n",
    "\n",
    "print(\"length of number_lsit =\", len(number_list))\n",
    "print(\"sum of first 2 elements in number_list =\", sum(number_list[:2]))\n",
    "print(\"stride_list =\", stride_list)"
   ]
  },
  {
   "cell_type": "code",
   "execution_count": 4,
   "metadata": {},
   "outputs": [
    {
     "name": "stdout",
     "output_type": "stream",
     "text": [
      "torch.Size([79, 84, 112])\n",
      "torch.Size([79, 1])\n",
      "torch.Size([79, 84, 112])\n",
      "torch.int32\n",
      "torch.float32\n"
     ]
    }
   ],
   "source": [
    "from data_io import *\n",
    "\n",
    "data = dif_frame(test, number_list)\n",
    "data_gt = vector(number_list, stride_list)\n",
    "\n",
    "print(data.shape)\n",
    "print(data_gt.shape)\n",
    "\n",
    "CSV_NAME = 'sample.csv'\n",
    "IMAGE_NAME = 'sample'\n",
    "\n",
    "gt_export(data_gt, CSV_NAME)\n",
    "gt = gt_import(CSV_NAME)\n",
    "image_export(data, IMAGE_NAME)\n",
    "image = image_import(gt, IMAGE_NAME)\n",
    "print(image.shape)\n",
    "print(image.dtype)\n",
    "print(gt.dtype)"
   ]
  },
  {
   "cell_type": "code",
   "execution_count": null,
   "metadata": {},
   "outputs": [],
   "source": [
    "# view image\n",
    "for i in range(len(image)):\n",
    "    plt.imshow(image[i], cmap='gray')\n",
    "    pause(0.01)"
   ]
  }
 ],
 "metadata": {
  "kernelspec": {
   "display_name": "Python 3.8.13 ('auto_labeling')",
   "language": "python",
   "name": "python3"
  },
  "language_info": {
   "codemirror_mode": {
    "name": "ipython",
    "version": 3
   },
   "file_extension": ".py",
   "mimetype": "text/x-python",
   "name": "python",
   "nbconvert_exporter": "python",
   "pygments_lexer": "ipython3",
   "version": "3.8.13 (default, Mar 28 2022, 06:59:08) [MSC v.1916 64 bit (AMD64)]"
  },
  "orig_nbformat": 4,
  "vscode": {
   "interpreter": {
    "hash": "ec129e0590d45a22483b850cd1c473456f2c02a48b73be1599d608a53736fee7"
   }
  }
 },
 "nbformat": 4,
 "nbformat_minor": 2
}
