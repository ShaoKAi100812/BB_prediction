{
 "cells": [
  {
   "attachments": {},
   "cell_type": "markdown",
   "metadata": {},
   "source": [
    "## Fashion-MNIST-based simulated production line prediction\n",
    "<font color=#FF0000>Description, TO BE DONE!!</font>"
   ]
  },
  {
   "attachments": {},
   "cell_type": "markdown",
   "metadata": {},
   "source": [
    "### Packages import"
   ]
  },
  {
   "cell_type": "code",
   "execution_count": 1,
   "metadata": {},
   "outputs": [],
   "source": [
    "# necessary packages\n",
    "import torch\n",
    "from torch.utils.data import Dataset, DataLoader\n",
    "from torchvision import datasets\n",
    "from torchvision.transforms import ToTensor, Lambda, Compose\n",
    "from torch import nn\n",
    "import torch.nn.functional as F\n",
    "import matplotlib.pyplot as plt\n",
    "import random\n",
    "\n",
    "# additional certain short functions\n",
    "from torch import is_tensor\n",
    "from matplotlib.pyplot import pause\n",
    "from random import randint\n",
    "from copy import deepcopy\n",
    "from math import floor, ceil\n",
    "from torch import stack\n",
    "from torch import cat\n",
    "\n",
    "# import custom functions\n",
    "from data_generate import *\n",
    "from data_io import *\n",
    "from CNN import *\n",
    "from FCN import *\n",
    "\n",
    "# ignore warnings\n",
    "import warnings\n",
    "warnings.filterwarnings('ignore')"
   ]
  },
  {
   "cell_type": "code",
   "execution_count": 2,
   "metadata": {},
   "outputs": [
    {
     "name": "stdout",
     "output_type": "stream",
     "text": [
      "cuda\n"
     ]
    }
   ],
   "source": [
    "# apply CUDA\n",
    "USE_GPU = True\n",
    "if USE_GPU and torch.cuda.is_available():\n",
    "    device = torch.device('cuda')\n",
    "else:\n",
    "    device = torch.device('cpu')\n",
    "print(device)"
   ]
  },
  {
   "attachments": {},
   "cell_type": "markdown",
   "metadata": {},
   "source": [
    "### Custom data loading"
   ]
  },
  {
   "cell_type": "code",
   "execution_count": 3,
   "metadata": {},
   "outputs": [],
   "source": [
    "# Customize dataset\n",
    "class ProductLineDataset(Dataset):\n",
    "    def __init__(self, image: torch.Tensor, gt: torch.Tensor):\n",
    "        self.x = image.reshape(len(image), 1, 28*3, 28*4).type(torch.float32)\n",
    "        self.y = gt.type(torch.float32)\n",
    "    \n",
    "    def __len__(self):\n",
    "        return len(self.x)\n",
    "    \n",
    "    def __getitem__(self, idx):\n",
    "        return self.x[idx], self.y[idx]"
   ]
  },
  {
   "cell_type": "code",
   "execution_count": 4,
   "metadata": {},
   "outputs": [],
   "source": [
    "# define file names\n",
    "CSV_NAME_TRAIN_02346 = 'train_02346.csv'\n",
    "CSV_NAME_TEST_02346 = 'test_02346.csv'\n",
    "CSV_NAME_TEST_579 = 'test_579.csv'\n",
    "CSV_NAME_TEST_18 = 'test_18.csv'\n",
    "IMAGE_NAME_TRAIN_02346 = 'train_02346'\n",
    "IMAGE_NAME_TEST_02346 = 'test_02346'\n",
    "IMAGE_NAME_TEST_579 = 'test_579'\n",
    "IMAGE_NAME_TEST_18 = 'test_18'\n",
    "\n",
    "# import data\n",
    "# 1-D ground truth\n",
    "gt_train_02346 = gt_import(CSV_NAME_TRAIN_02346)\n",
    "gt_test_02346 = gt_import(CSV_NAME_TEST_02346)\n",
    "gt_test_579 = gt_import(CSV_NAME_TEST_579)\n",
    "gt_test_18 = gt_import(CSV_NAME_TEST_18)\n",
    "\n",
    "# 2-D ground truth\n",
    "gt_train_02346 = torch.cat((gt_train_02346.reshape(len(gt_train_02346), 1), torch.zeros(len(gt_train_02346), 1)), dim = 1)\n",
    "gt_test_02346 = torch.cat((gt_test_02346.reshape(len(gt_test_02346), 1), torch.zeros(len(gt_test_02346), 1)), dim = 1)\n",
    "gt_test_579 = torch.cat((gt_test_579.reshape(len(gt_test_579), 1), torch.zeros(len(gt_test_579), 1)), dim = 1)\n",
    "gt_test_18 = torch.cat((gt_test_18.reshape(len(gt_test_18), 1), torch.zeros(len(gt_test_18), 1)), dim = 1)\n",
    "\n",
    "# 4-D image data\n",
    "image_train_02346 = image_import(gt_train_02346, IMAGE_NAME_TRAIN_02346)/255.\n",
    "image_test_02346 = image_import(gt_test_02346, IMAGE_NAME_TEST_02346)/255.\n",
    "image_test_579 = image_import(gt_test_579, IMAGE_NAME_TEST_579)/255.\n",
    "image_test_18 = image_import(gt_test_18, IMAGE_NAME_TEST_18)/255."
   ]
  },
  {
   "cell_type": "code",
   "execution_count": 5,
   "metadata": {},
   "outputs": [
    {
     "name": "stdout",
     "output_type": "stream",
     "text": [
      "torch.Size([10633, 2])\n",
      "torch.Size([10633, 1, 84, 112])\n"
     ]
    },
    {
     "data": {
      "text/plain": [
       "<matplotlib.image.AxesImage at 0x24e1490d5b0>"
      ]
     },
     "execution_count": 5,
     "metadata": {},
     "output_type": "execute_result"
    },
    {
     "data": {
      "image/png": "[encoded data removed]",
      "text/plain": [
       "<Figure size 432x288 with 1 Axes>"
      ]
     },
     "metadata": {
      "needs_background": "light"
     },
     "output_type": "display_data"
    }
   ],
   "source": [
    "# print shapes\n",
    "print(gt_train_02346.shape)\n",
    "print(image_train_02346.shape)\n",
    "\n",
    "# print info\n",
    "plt.imshow(image_train_02346[1][0], cmap='gray')"
   ]
  },
  {
   "cell_type": "code",
   "execution_count": 6,
   "metadata": {},
   "outputs": [],
   "source": [
    "# define dataset\n",
    "dataset_train_02346 = ProductLineDataset(image_train_02346, gt_train_02346)\n",
    "dataset_test_02346 = ProductLineDataset(image_test_02346, gt_test_02346)\n",
    "dataset_test_579 = ProductLineDataset(image_test_579, gt_test_579)\n",
    "dataset_test_18 = ProductLineDataset(image_test_18, gt_test_18)\n",
    "\n",
    "# define dataloader\n",
    "dataloader_train_02346 = DataLoader(dataset_train_02346, batch_size=512, shuffle=True)\n",
    "dataloader_test_02346 = DataLoader(dataset_test_02346, batch_size=1, shuffle=True)  # batch_size=1 for accuracy calculation\n",
    "dataloader_test_579 = DataLoader(dataset_test_579, batch_size=1, shuffle=True)\n",
    "dataloader_test_18 = DataLoader(dataset_test_18, batch_size=1, shuffle=True)"
   ]
  },
  {
   "cell_type": "code",
   "execution_count": 7,
   "metadata": {},
   "outputs": [
    {
     "name": "stdout",
     "output_type": "stream",
     "text": [
      "Shape of X [N, C, H, W]:  torch.Size([512, 1, 84, 112])\n",
      "Shape of y:  torch.Size([512, 2])\n",
      "Data type of y:  torch.float32\n",
      "tensor([[5., 0.],\n",
      "        [4., 0.],\n",
      "        [5., 0.],\n",
      "        ...,\n",
      "        [4., 0.],\n",
      "        [3., 0.],\n",
      "        [6., 0.]])\n"
     ]
    }
   ],
   "source": [
    "# visualize the shape\n",
    "for X, y in dataloader_train_02346:\n",
    "    print(\"Shape of X [N, C, H, W]: \", X.shape)\n",
    "    print(\"Shape of y: \", y.shape)\n",
    "    print(\"Data type of y: \", y.dtype)\n",
    "    print(y)\n",
    "    break"
   ]
  },
  {
   "attachments": {},
   "cell_type": "markdown",
   "metadata": {},
   "source": [
    "### Define functions"
   ]
  },
  {
   "cell_type": "code",
   "execution_count": 8,
   "metadata": {},
   "outputs": [],
   "source": [
    "# define functions \n",
    "def train(model, dataloader_train, loss_fn, optimizer):   # put epoch in main better for loss calculation\n",
    "    # initialize training loss\n",
    "    train_loss = 0\n",
    "    \n",
    "    # size of dataset\n",
    "    size = len(dataloader_train.dataset)\n",
    "    \n",
    "    # set model mode\n",
    "    model.train()\n",
    "    \n",
    "    # train batches per epoch\n",
    "    for batch, (X, y) in enumerate(dataloader_train):\n",
    "        # move data to device\n",
    "        X, y = X.to(device), y.to(device)\n",
    "        \n",
    "        score = model(X)\n",
    "        # loss = torch.sum(torch.pow((score-y), 2) * torch.tensor([0.7, 0.3]).to(device)) / len(score)\n",
    "        loss = loss_fn(score, y)\n",
    "        train_loss += loss.item()\n",
    "        \n",
    "        optimizer.zero_grad()\n",
    "        loss.backward()\n",
    "        optimizer.step()\n",
    "        \n",
    "\n",
    "    # calculate the average loss and accuracy\n",
    "    train_loss /= batch\n",
    "    print(f\"Avg training loss: {train_loss:>8f}\")\n",
    "            \n",
    "    return train_loss\n",
    "            \n",
    "def test(model, dataloader, loss_fn):\n",
    "    # size of dataset\n",
    "    size = len(dataloader.dataset)\n",
    "    \n",
    "    # number of batches\n",
    "    num_batches = len(dataloader)\n",
    "    \n",
    "    # set model mode\n",
    "    model.eval()\n",
    "    \n",
    "    test_loss, correct = 0, 0\n",
    "    \n",
    "    with torch.no_grad():\n",
    "        for X,y in dataloader:\n",
    "            # move data to device\n",
    "            X, y = X.to(device), y.to(device)\n",
    "            \n",
    "            score = model(X)\n",
    "            # test_loss += (torch.sum(torch.pow((score-y), 2) * torch.tensor([0.7, 0.3]).to(device)) / len(score)).item()\n",
    "            test_loss += loss_fn(score, y).item()\n",
    "            correct += 1 - abs(round(score[0][0].item()) - y[0][0].item()) / y[0][0].item()    # only for batch_size=1\n",
    "    \n",
    "    # calculate the average loss and accuracy\n",
    "    test_loss /= num_batches\n",
    "    correct /= num_batches\n",
    "    print(f\"Avg testing loss: {test_loss:>8f}, Accuracy: {(100*correct):>0.1f}%\")\n",
    "    \n",
    "    return test_loss "
   ]
  },
  {
   "attachments": {},
   "cell_type": "markdown",
   "metadata": {},
   "source": [
    "### FCN model setup and train/test"
   ]
  },
  {
   "cell_type": "code",
   "execution_count": 17,
   "metadata": {},
   "outputs": [
    {
     "name": "stdout",
     "output_type": "stream",
     "text": [
      "FCN(\n",
      "  (fc1): Sequential(\n",
      "    (0): Flatten(start_dim=1, end_dim=-1)\n",
      "    (1): Linear(in_features=9408, out_features=1024, bias=True)\n",
      "    (2): BatchNorm1d(1024, eps=1e-05, momentum=0.1, affine=True, track_running_stats=True)\n",
      "    (3): ReLU()\n",
      "    (4): Dropout(p=0.5, inplace=False)\n",
      "  )\n",
      "  (fc2): Sequential(\n",
      "    (0): Linear(in_features=1024, out_features=1024, bias=True)\n",
      "    (1): BatchNorm1d(1024, eps=1e-05, momentum=0.1, affine=True, track_running_stats=True)\n",
      "    (2): ReLU()\n",
      "    (3): Dropout(p=0.5, inplace=False)\n",
      "  )\n",
      "  (fc3): Sequential(\n",
      "    (0): Linear(in_features=1024, out_features=512, bias=True)\n",
      "    (1): BatchNorm1d(512, eps=1e-05, momentum=0.1, affine=True, track_running_stats=True)\n",
      "    (2): ReLU()\n",
      "    (3): Dropout(p=0.3, inplace=False)\n",
      "  )\n",
      "  (fc4): Sequential(\n",
      "    (0): Linear(in_features=512, out_features=256, bias=True)\n",
      "    (1): BatchNorm1d(256, eps=1e-05, momentum=0.1, affine=True, track_running_stats=True)\n",
      "    (2): ReLU()\n",
      "    (3): Dropout(p=0.3, inplace=False)\n",
      "  )\n",
      "  (fc5): Sequential(\n",
      "    (0): Linear(in_features=256, out_features=64, bias=True)\n",
      "    (1): ReLU()\n",
      "  )\n",
      "  (fc6): Sequential(\n",
      "    (0): Linear(in_features=64, out_features=8, bias=True)\n",
      "    (1): ReLU()\n",
      "  )\n",
      "  (out): Sequential(\n",
      "    (0): Linear(in_features=8, out_features=2, bias=True)\n",
      "  )\n",
      ")\n"
     ]
    }
   ],
   "source": [
    "in_channel = (28*3)*(28*4)\n",
    "node_1 = 1024\n",
    "node_2 = 1024\n",
    "node_3 = 512\n",
    "node_4 = 256\n",
    "node_5 = 64\n",
    "node_6 = 8\n",
    "out_channel = 2\n",
    "\n",
    "FCN_model = FCN(in_channel, node_1, node_2, node_3, node_4, \\\n",
    "    node_5, node_6, out_channel).to(device=device)\n",
    "print(FCN_model)"
   ]
  },
  {
   "cell_type": "code",
   "execution_count": 18,
   "metadata": {},
   "outputs": [],
   "source": [
    "# define parameters\n",
    "learning_rate = 1e-3\n",
    "\n",
    "# define lose function\n",
    "loss_fn = nn.MSELoss()\n",
    "\n",
    "# define optimizer\n",
    "optimizer_FCN = torch.optim.Adam(FCN_model.parameters(), lr=learning_rate)"
   ]
  },
  {
   "cell_type": "code",
   "execution_count": 19,
   "metadata": {},
   "outputs": [
    {
     "name": "stdout",
     "output_type": "stream",
     "text": [
      "Epoch 1\n",
      "-------------------------------\n",
      "Avg training loss: 11.967213\n",
      "Avg testing loss: 9.622572, Accuracy: 0.0%\n",
      "Epoch 2\n",
      "-------------------------------\n",
      "Avg training loss: 11.098497\n",
      "Avg testing loss: 7.832831, Accuracy: 7.3%\n",
      "Epoch 3\n",
      "-------------------------------\n",
      "Avg training loss: 7.653305\n",
      "Avg testing loss: 3.446514, Accuracy: 48.3%\n",
      "Epoch 4\n",
      "-------------------------------\n",
      "Avg training loss: 1.756352\n",
      "Avg testing loss: 0.994628, Accuracy: 67.6%\n",
      "Epoch 5\n",
      "-------------------------------\n",
      "Avg training loss: 0.683968\n",
      "Avg testing loss: 0.608766, Accuracy: 76.6%\n",
      "Epoch 6\n",
      "-------------------------------\n",
      "Avg training loss: 0.554430\n",
      "Avg testing loss: 0.560846, Accuracy: 76.8%\n",
      "Epoch 7\n",
      "-------------------------------\n",
      "Avg training loss: 0.521652\n",
      "Avg testing loss: 0.534435, Accuracy: 77.2%\n",
      "Epoch 8\n",
      "-------------------------------\n",
      "Avg training loss: 0.506442\n",
      "Avg testing loss: 0.544868, Accuracy: 77.1%\n",
      "Epoch 9\n",
      "-------------------------------\n",
      "Avg training loss: 0.469760\n",
      "Avg testing loss: 0.558079, Accuracy: 78.4%\n",
      "Epoch 10\n",
      "-------------------------------\n",
      "Avg training loss: 0.432854\n",
      "Avg testing loss: 0.560628, Accuracy: 80.0%\n",
      "Epoch 11\n",
      "-------------------------------\n",
      "Avg training loss: 0.406601\n",
      "Avg testing loss: 0.602427, Accuracy: 80.5%\n",
      "Epoch 12\n",
      "-------------------------------\n",
      "Avg training loss: 0.372929\n",
      "Avg testing loss: 0.589562, Accuracy: 80.4%\n",
      "Epoch 13\n",
      "-------------------------------\n",
      "Avg training loss: 0.341892\n",
      "Avg testing loss: 0.533360, Accuracy: 81.6%\n",
      "Epoch 14\n",
      "-------------------------------\n",
      "Avg training loss: 0.327773\n",
      "Avg testing loss: 0.559691, Accuracy: 81.4%\n",
      "Epoch 15\n",
      "-------------------------------\n",
      "Avg training loss: 0.297227\n",
      "Avg testing loss: 0.561549, Accuracy: 80.9%\n",
      "Epoch 16\n",
      "-------------------------------\n",
      "Avg training loss: 0.286828\n",
      "Avg testing loss: 0.572154, Accuracy: 80.8%\n",
      "Epoch 17\n",
      "-------------------------------\n",
      "Avg training loss: 0.262967\n",
      "Avg testing loss: 0.557171, Accuracy: 81.7%\n",
      "Epoch 18\n",
      "-------------------------------\n",
      "Avg training loss: 0.253781\n",
      "Avg testing loss: 0.559311, Accuracy: 81.4%\n",
      "Epoch 19\n",
      "-------------------------------\n",
      "Avg training loss: 0.244170\n",
      "Avg testing loss: 0.567262, Accuracy: 81.4%\n",
      "Epoch 20\n",
      "-------------------------------\n",
      "Avg training loss: 0.235113\n",
      "Avg testing loss: 0.576483, Accuracy: 81.6%\n",
      "Done!!\n"
     ]
    },
    {
     "data": {
      "image/png": "[encoded data removed]",
      "text/plain": [
       "<Figure size 432x288 with 1 Axes>"
      ]
     },
     "metadata": {
      "needs_background": "light"
     },
     "output_type": "display_data"
    }
   ],
   "source": [
    "# set epoch\n",
    "epoch = 20\n",
    "loss_train = []\n",
    "loss_val = []\n",
    "\n",
    "# train epoch\n",
    "for t in range(epoch):\n",
    "    print(f\"Epoch {t+1}\\n-------------------------------\")\n",
    "    loss_train.append(train(FCN_model, dataloader_train_02346, loss_fn, optimizer_FCN)) # train with loss record\n",
    "    loss_val.append(test(FCN_model, dataloader_test_02346, loss_fn)) # test with loss record\n",
    "print(\"Done!!\")\n",
    "\n",
    "# print loss\n",
    "loss_train = np.array(loss_train).flatten() # transform to np.array and flatten\n",
    "loss_val = np.array(loss_val).flatten()     # transform to np.array and flatten\n",
    "x = range(1, epoch+1)\n",
    "plt.semilogy(x, loss_train, 'b-', label=\"training loss\")\n",
    "plt.semilogy(x, loss_val, 'r-', label=\"validation loss\")\n",
    "plt.xlabel(\"Epoch\")\n",
    "plt.ylabel(\"MSE Loss\")\n",
    "plt.title(\"Train/Validation Loss\")\n",
    "plt.legend()\n",
    "plt.show()\n",
    "\n",
    "\n",
    "# model saving\n",
    "torch.save(FCN_model.state_dict(), \"FCN.pth\")"
   ]
  },
  {
   "attachments": {},
   "cell_type": "markdown",
   "metadata": {},
   "source": [
    "### CNN model setup and train/test"
   ]
  },
  {
   "cell_type": "code",
   "execution_count": 14,
   "metadata": {},
   "outputs": [
    {
     "name": "stdout",
     "output_type": "stream",
     "text": [
      "CNN(\n",
      "  (conv1): Sequential(\n",
      "    (0): Conv2d(1, 8, kernel_size=(3, 3), stride=(1, 1), padding=(1, 1))\n",
      "    (1): BatchNorm2d(8, eps=1e-05, momentum=0.1, affine=True, track_running_stats=True)\n",
      "    (2): ReLU()\n",
      "    (3): MaxPool2d(kernel_size=2, stride=2, padding=0, dilation=1, ceil_mode=False)\n",
      "  )\n",
      "  (conv2): Sequential(\n",
      "    (0): Conv2d(8, 16, kernel_size=(3, 3), stride=(1, 1), padding=(1, 1))\n",
      "    (1): BatchNorm2d(16, eps=1e-05, momentum=0.1, affine=True, track_running_stats=True)\n",
      "    (2): ReLU()\n",
      "    (3): MaxPool2d(kernel_size=2, stride=2, padding=0, dilation=1, ceil_mode=False)\n",
      "  )\n",
      "  (conv3): Sequential(\n",
      "    (0): Conv2d(16, 32, kernel_size=(3, 3), stride=(1, 1), padding=(1, 1))\n",
      "    (1): BatchNorm2d(32, eps=1e-05, momentum=0.1, affine=True, track_running_stats=True)\n",
      "    (2): ReLU()\n",
      "    (3): MaxPool2d(kernel_size=2, stride=2, padding=0, dilation=1, ceil_mode=False)\n",
      "  )\n",
      "  (fc1): Sequential(\n",
      "    (0): Flatten(start_dim=1, end_dim=-1)\n",
      "    (1): Linear(in_features=4480, out_features=1024, bias=True)\n",
      "    (2): ReLU()\n",
      "    (3): Dropout(p=0.3, inplace=False)\n",
      "  )\n",
      "  (fc2): Sequential(\n",
      "    (0): Linear(in_features=1024, out_features=1024, bias=True)\n",
      "    (1): ReLU()\n",
      "    (2): Dropout(p=0.3, inplace=False)\n",
      "  )\n",
      "  (fc3): Sequential(\n",
      "    (0): Linear(in_features=1024, out_features=256, bias=True)\n",
      "    (1): ReLU()\n",
      "  )\n",
      "  (fc4): Sequential(\n",
      "    (0): Linear(in_features=256, out_features=64, bias=True)\n",
      "    (1): ReLU()\n",
      "  )\n",
      "  (out): Sequential(\n",
      "    (0): Linear(in_features=64, out_features=2, bias=True)\n",
      "  )\n",
      ")\n"
     ]
    }
   ],
   "source": [
    "in_channel = 1\n",
    "channel_1 = 8\n",
    "channel_2 = 16\n",
    "channel_3 = 32\n",
    "node_1 = 1024\n",
    "node_2 = 1024\n",
    "node_3 = 256\n",
    "node_4 = 64\n",
    "out_channel = 2\n",
    "\n",
    "CNN_model = CNN(in_channel, channel_1, channel_2, channel_3, \\\n",
    "    node_1, node_2, node_3, node_4, out_channel).to(device=device)\n",
    "print(CNN_model)"
   ]
  },
  {
   "cell_type": "code",
   "execution_count": 15,
   "metadata": {},
   "outputs": [],
   "source": [
    "# define parameters\n",
    "learning_rate = 1e-3\n",
    "\n",
    "# define lose function\n",
    "loss_fn = nn.MSELoss()\n",
    "\n",
    "# define optimizer\n",
    "optimizer_CNN = torch.optim.Adam(CNN_model.parameters(), lr=learning_rate)"
   ]
  },
  {
   "cell_type": "code",
   "execution_count": 16,
   "metadata": {},
   "outputs": [
    {
     "name": "stdout",
     "output_type": "stream",
     "text": [
      "Epoch 1\n",
      "-------------------------------\n",
      "Avg training loss: 7.688664\n",
      "Avg testing loss: 5.124039, Accuracy: 26.0%\n",
      "Epoch 2\n",
      "-------------------------------\n",
      "Avg training loss: 1.322961\n",
      "Avg testing loss: 1.723721, Accuracy: 71.1%\n",
      "Epoch 3\n",
      "-------------------------------\n",
      "Avg training loss: 0.687685\n",
      "Avg testing loss: 0.942189, Accuracy: 78.0%\n",
      "Epoch 4\n",
      "-------------------------------\n",
      "Avg training loss: 0.449635\n",
      "Avg testing loss: 0.855679, Accuracy: 78.9%\n",
      "Epoch 5\n",
      "-------------------------------\n",
      "Avg training loss: 0.365578\n",
      "Avg testing loss: 0.485184, Accuracy: 85.1%\n",
      "Epoch 6\n",
      "-------------------------------\n",
      "Avg training loss: 0.326439\n",
      "Avg testing loss: 0.417367, Accuracy: 85.4%\n",
      "Epoch 7\n",
      "-------------------------------\n",
      "Avg training loss: 0.311022\n",
      "Avg testing loss: 0.326909, Accuracy: 86.4%\n",
      "Epoch 8\n",
      "-------------------------------\n",
      "Avg training loss: 0.284447\n",
      "Avg testing loss: 0.281754, Accuracy: 84.2%\n",
      "Epoch 9\n",
      "-------------------------------\n",
      "Avg training loss: 0.258147\n",
      "Avg testing loss: 0.567088, Accuracy: 74.3%\n",
      "Epoch 10\n",
      "-------------------------------\n",
      "Avg training loss: 0.245555\n",
      "Avg testing loss: 0.290984, Accuracy: 88.5%\n",
      "Epoch 11\n",
      "-------------------------------\n",
      "Avg training loss: 0.230392\n",
      "Avg testing loss: 0.229035, Accuracy: 88.6%\n",
      "Epoch 12\n",
      "-------------------------------\n",
      "Avg training loss: 0.211750\n",
      "Avg testing loss: 0.253736, Accuracy: 84.9%\n",
      "Epoch 13\n",
      "-------------------------------\n",
      "Avg training loss: 0.220502\n",
      "Avg testing loss: 0.430716, Accuracy: 82.0%\n",
      "Epoch 14\n",
      "-------------------------------\n",
      "Avg training loss: 0.198060\n",
      "Avg testing loss: 0.222092, Accuracy: 90.1%\n",
      "Epoch 15\n",
      "-------------------------------\n",
      "Avg training loss: 0.183952\n",
      "Avg testing loss: 0.326922, Accuracy: 85.8%\n",
      "Epoch 16\n",
      "-------------------------------\n",
      "Avg training loss: 0.190576\n",
      "Avg testing loss: 2.218184, Accuracy: 46.2%\n",
      "Epoch 17\n",
      "-------------------------------\n",
      "Avg training loss: 0.162605\n",
      "Avg testing loss: 2.557558, Accuracy: 41.2%\n",
      "Epoch 18\n",
      "-------------------------------\n",
      "Avg training loss: 0.172274\n",
      "Avg testing loss: 1.951489, Accuracy: 50.4%\n",
      "Epoch 19\n",
      "-------------------------------\n",
      "Avg training loss: 0.163999\n",
      "Avg testing loss: 0.651602, Accuracy: 75.1%\n",
      "Epoch 20\n",
      "-------------------------------\n",
      "Avg training loss: 0.159669\n",
      "Avg testing loss: 0.591161, Accuracy: 77.1%\n",
      "Done!!\n"
     ]
    },
    {
     "data": {
      "image/png": "[encoded data removed]",
      "text/plain": [
       "<Figure size 432x288 with 1 Axes>"
      ]
     },
     "metadata": {
      "needs_background": "light"
     },
     "output_type": "display_data"
    }
   ],
   "source": [
    "# set epoch\n",
    "epoch = 20\n",
    "loss_train = []\n",
    "loss_val = []\n",
    "\n",
    "# train epoch\n",
    "for t in range(epoch):\n",
    "    print(f\"Epoch {t+1}\\n-------------------------------\")\n",
    "    loss_train.append(train(CNN_model, dataloader_train_02346, loss_fn, optimizer_CNN)) # train with loss record\n",
    "    loss_val.append(test(CNN_model, dataloader_test_02346, loss_fn)) # test with loss record\n",
    "print(\"Done!!\")\n",
    "\n",
    "# print loss\n",
    "loss_train = np.array(loss_train).flatten() # transform to np.array and flatten\n",
    "loss_val = np.array(loss_val).flatten()     # transform to np.array and flatten\n",
    "x = range(1, epoch+1)\n",
    "plt.semilogy(x, loss_train, 'b-', label=\"training loss\")\n",
    "plt.semilogy(x, loss_val, 'r-', label=\"validation loss\")\n",
    "# plt.plot(x, loss_train, 'b-', label=\"training loss\")\n",
    "# plt.plot(x, loss_val, 'r-', label=\"validation loss\")\n",
    "plt.xlabel(\"Epoch\")\n",
    "plt.ylabel(\"MSE Loss\")\n",
    "plt.title(\"Train/Validation Loss\")\n",
    "plt.legend()\n",
    "plt.show()\n",
    "\n",
    "# model saving\n",
    "torch.save(CNN_model.state_dict(), \"CNN.pth\")"
   ]
  },
  {
   "attachments": {},
   "cell_type": "markdown",
   "metadata": {},
   "source": [
    "### Prediction visualization"
   ]
  },
  {
   "cell_type": "code",
   "execution_count": null,
   "metadata": {},
   "outputs": [],
   "source": []
  }
 ],
 "metadata": {
  "kernelspec": {
   "display_name": "Python 3",
   "language": "python",
   "name": "python3"
  },
  "language_info": {
   "codemirror_mode": {
    "name": "ipython",
    "version": 3
   },
   "file_extension": ".py",
   "mimetype": "text/x-python",
   "name": "python",
   "nbconvert_exporter": "python",
   "pygments_lexer": "ipython3",
   "version": "3.8.10"
  },
  "orig_nbformat": 4,
  "vscode": {
   "interpreter": {
    "hash": "64def4006c78149665c79cf5850ee76c9e416630a0d9e75e41ff194dcaf5fb2b"
   }
  }
 },
 "nbformat": 4,
 "nbformat_minor": 2
}
