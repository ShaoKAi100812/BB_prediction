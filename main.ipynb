{
 "cells": [
  {
   "attachments": {},
   "cell_type": "markdown",
   "metadata": {},
   "source": [
    "## Fashion-MNIST-based simulated production line prediction\n",
    "<font color=#FF0000>Description, TO BE DONE!!</font>"
   ]
  },
  {
   "attachments": {},
   "cell_type": "markdown",
   "metadata": {},
   "source": [
    "### Packages import"
   ]
  },
  {
   "cell_type": "code",
   "execution_count": 2,
   "metadata": {},
   "outputs": [],
   "source": [
    "# necessary packages\n",
    "import torch\n",
    "from torch.utils.data import Dataset, DataLoader\n",
    "from torchvision import datasets\n",
    "from torchvision.transforms import ToTensor, Lambda, Compose\n",
    "from torch import nn\n",
    "import torch.nn.functional as F\n",
    "import matplotlib.pyplot as plt\n",
    "import random\n",
    "\n",
    "# additional certain short functions\n",
    "from torch import is_tensor\n",
    "from matplotlib.pyplot import pause\n",
    "from random import randint\n",
    "from copy import deepcopy\n",
    "from math import floor, ceil\n",
    "from torch import stack\n",
    "from torch import cat\n",
    "\n",
    "# import custom functions\n",
    "from data_generate import *\n",
    "from data_io import *\n",
    "from CNN import *\n",
    "\n",
    "# ignore warnings\n",
    "import warnings\n",
    "warnings.filterwarnings('ignore')"
   ]
  },
  {
   "attachments": {},
   "cell_type": "markdown",
   "metadata": {},
   "source": [
    "### Custom data loading"
   ]
  },
  {
   "cell_type": "code",
   "execution_count": 2,
   "metadata": {},
   "outputs": [],
   "source": [
    "# Customize dataset\n",
    "class ProductLineDataset(Dataset):\n",
    "    def __init__(self, image: torch.Tensor, gt: torch.Tensor):\n",
    "        self.x = image.reshape(len(image), 1, 28*3, 28*4).type(torch.float32)\n",
    "        self.y = gt.type(torch.float32)\n",
    "    \n",
    "    def __len__(self):\n",
    "        return len(self.x)\n",
    "    \n",
    "    def __getitem__(self, idx):\n",
    "        return self.x[idx], self.y[idx]"
   ]
  },
  {
   "cell_type": "code",
   "execution_count": 20,
   "metadata": {},
   "outputs": [],
   "source": [
    "# define file names\n",
    "CSV_NAME_TRAIN_02346 = 'train_02346.csv'\n",
    "CSV_NAME_TEST_02346 = 'test_02346.csv'\n",
    "CSV_NAME_TEST_579 = 'test_579.csv'\n",
    "CSV_NAME_TEST_18 = 'test_18.csv'\n",
    "IMAGE_NAME_TRAIN_02346 = 'train_02346'\n",
    "IMAGE_NAME_TEST_02346 = 'test_02346'\n",
    "IMAGE_NAME_TEST_579 = 'test_579'\n",
    "IMAGE_NAME_TEST_18 = 'test_18'\n",
    "\n",
    "# import data\n",
    "gt_train_02346 = gt_import(CSV_NAME_TRAIN_02346)\n",
    "gt_test_02346 = gt_import(CSV_NAME_TEST_02346)\n",
    "gt_test_579 = gt_import(CSV_NAME_TEST_579)\n",
    "gt_test_18 = gt_import(CSV_NAME_TEST_18)\n",
    "image_train_02346 = image_import(gt_train_02346, IMAGE_NAME_TRAIN_02346)/255.\n",
    "image_test_02346 = image_import(gt_test_02346, IMAGE_NAME_TEST_02346)/255.\n",
    "image_test_579 = image_import(gt_test_579, IMAGE_NAME_TEST_579)/255.\n",
    "image_test_18 = image_import(gt_test_18, IMAGE_NAME_TEST_18)/255."
   ]
  },
  {
   "cell_type": "code",
   "execution_count": 21,
   "metadata": {},
   "outputs": [],
   "source": [
    "# define dataset\n",
    "dataset_train_02346 = ProductLineDataset(image_train_02346, gt_train_02346)\n",
    "dataset_test_02346 = ProductLineDataset(image_test_02346, gt_test_02346)\n",
    "dataset_test_579 = ProductLineDataset(image_test_579, gt_test_579)\n",
    "dataset_test_18 = ProductLineDataset(image_test_18, gt_test_18)\n",
    "\n",
    "# define dataloader\n",
    "dataloader_train_02346 = DataLoader(dataset_train_02346, batch_size=64, shuffle=True)\n",
    "dataloader_test_02346 = DataLoader(dataset_test_02346, batch_size=1, shuffle=True)  # batch_size=1 for test\n",
    "dataloader_test_579 = DataLoader(dataset_test_579, batch_size=1, shuffle=True)\n",
    "dataloader_test_18 = DataLoader(dataset_test_18, batch_size=1, shuffle=True)"
   ]
  },
  {
   "cell_type": "code",
   "execution_count": 23,
   "metadata": {},
   "outputs": [
    {
     "name": "stdout",
     "output_type": "stream",
     "text": [
      "Shape of X [N, C, H, W]:  torch.Size([64, 1, 84, 112])\n",
      "Shape of y:  torch.Size([64])\n",
      "Data type of y:  torch.float32\n",
      "tensor([6., 5., 5., 3., 6., 3., 3., 5., 6., 5., 4., 6., 7., 3., 5., 7., 3., 3.,\n",
      "        4., 4., 3., 7., 4., 3., 5., 3., 3., 7., 3., 6., 5., 4., 7., 6., 7., 5.,\n",
      "        3., 5., 4., 4., 6., 3., 4., 6., 5., 4., 5., 3., 6., 7., 6., 5., 3., 5.,\n",
      "        7., 6., 3., 3., 4., 6., 3., 7., 7., 6.])\n"
     ]
    }
   ],
   "source": [
    "# visualize the shape\n",
    "for X, y in dataloader_train_02346:\n",
    "    print(\"Shape of X [N, C, H, W]: \", X.shape)\n",
    "    print(\"Shape of y: \", y.shape)\n",
    "    print(\"Data type of y: \", y.dtype)\n",
    "    print(y)    # need to transfer [64] to [64, 10] by one-hot coding\n",
    "    break"
   ]
  },
  {
   "attachments": {},
   "cell_type": "markdown",
   "metadata": {},
   "source": [
    "### Custom model"
   ]
  },
  {
   "cell_type": "code",
   "execution_count": 24,
   "metadata": {},
   "outputs": [
    {
     "name": "stdout",
     "output_type": "stream",
     "text": [
      "cpu\n"
     ]
    }
   ],
   "source": [
    "# apply CUDA\n",
    "USE_GPU = True\n",
    "if USE_GPU and torch.cuda.is_available():\n",
    "    device = torch.device('cuda')\n",
    "else:\n",
    "    device = torch.device('cpu')\n",
    "print(device)"
   ]
  },
  {
   "cell_type": "code",
   "execution_count": 32,
   "metadata": {},
   "outputs": [],
   "source": [
    "# define basic model\n",
    "class NeuralNetwork(nn.Module):\n",
    "    def __init__(self) -> None:\n",
    "        super().__init__()\n",
    "        \n",
    "        self.flatten = nn.Flatten()\n",
    "        self.linear = nn.Sequential(\n",
    "            nn.Linear((28*3)*(28*4), 1024),\n",
    "            nn.BatchNorm1d(1024),\n",
    "            nn.LeakyReLU(),\n",
    "            nn.Dropout(p=0.5),\n",
    "            nn.Linear(1024, 256),\n",
    "            nn.BatchNorm1d(256),\n",
    "            nn.LeakyReLU(),\n",
    "            nn.Dropout(p=0.5),\n",
    "            nn.Linear(256, 128),\n",
    "            nn.BatchNorm1d(128),\n",
    "            nn.LeakyReLU(),\n",
    "            nn.Linear(128, 64),\n",
    "            nn.BatchNorm1d(64),\n",
    "            nn.LeakyReLU(),\n",
    "            nn.Linear(64, 1)\n",
    "        )\n",
    "        \n",
    "    def forward(self, x):\n",
    "        x = self.flatten(x)\n",
    "        score = self.linear(x)\n",
    "        return score"
   ]
  },
  {
   "attachments": {},
   "cell_type": "markdown",
   "metadata": {},
   "source": [
    "### Define functions"
   ]
  },
  {
   "cell_type": "code",
   "execution_count": 45,
   "metadata": {},
   "outputs": [],
   "source": [
    "# define functions \n",
    "def train(model, dataloader, loss_fn, optimizer):   # put epoch in main better for loss calculation\n",
    "    # size of dataset\n",
    "    size = len(dataloader.dataset)\n",
    "    \n",
    "    # set model mode\n",
    "    model.train()\n",
    "    \n",
    "    # train batches per epoch\n",
    "    for batch, (X, y) in enumerate(dataloader):\n",
    "        # move data to device\n",
    "        X, y = X.to(device), y.to(device)\n",
    "        \n",
    "        score = model(X)\n",
    "        loss = loss_fn(score, y)\n",
    "        \n",
    "        optimizer.zero_grad()\n",
    "        loss.backward()\n",
    "        optimizer.step()\n",
    "\n",
    "        if batch % 40 == 0:\n",
    "            loss, current = loss.item(), batch*len(X)\n",
    "            print(f\"loss: {loss:>7f}  [{current:>5d}/{size:>5d}]\")\n",
    "            \n",
    "def test(model, dataloader, loss_fn_train, loss_fn_test):\n",
    "    # size of dataset\n",
    "    size = len(dataloader.dataset)\n",
    "    \n",
    "    # number of batches\n",
    "    num_batches = len(dataloader)\n",
    "    \n",
    "    # set model mode\n",
    "    model.eval()\n",
    "    \n",
    "    test_loss, correct = 0, 0\n",
    "    \n",
    "    with torch.no_grad():\n",
    "        for X,y in dataloader:\n",
    "            # move data to device\n",
    "            X, y = X.to(device), y.to(device)\n",
    "            \n",
    "            score = model(X)\n",
    "            test_loss += loss_fn_train(score, y).item()\n",
    "            correct += (y.item() - loss_fn_test(score, y).item()) / (y.item())    # only for batch_size=1\n",
    "    \n",
    "    # calculate the average loss and accuracy\n",
    "    test_loss /= num_batches\n",
    "    correct /= num_batches\n",
    "    print(f\"Test Error: \\n Accuracy: {(100*correct):>0.1f}%, Avg loss: {test_loss:>8f} \\n\")"
   ]
  },
  {
   "attachments": {},
   "cell_type": "markdown",
   "metadata": {},
   "source": [
    "### Model setup and train/test"
   ]
  },
  {
   "cell_type": "code",
   "execution_count": 46,
   "metadata": {},
   "outputs": [
    {
     "name": "stdout",
     "output_type": "stream",
     "text": [
      "NeuralNetwork(\n",
      "  (flatten): Flatten(start_dim=1, end_dim=-1)\n",
      "  (linear): Sequential(\n",
      "    (0): Linear(in_features=9408, out_features=1024, bias=True)\n",
      "    (1): BatchNorm1d(1024, eps=1e-05, momentum=0.1, affine=True, track_running_stats=True)\n",
      "    (2): LeakyReLU(negative_slope=0.01)\n",
      "    (3): Dropout(p=0.5, inplace=False)\n",
      "    (4): Linear(in_features=1024, out_features=256, bias=True)\n",
      "    (5): BatchNorm1d(256, eps=1e-05, momentum=0.1, affine=True, track_running_stats=True)\n",
      "    (6): LeakyReLU(negative_slope=0.01)\n",
      "    (7): Dropout(p=0.5, inplace=False)\n",
      "    (8): Linear(in_features=256, out_features=128, bias=True)\n",
      "    (9): BatchNorm1d(128, eps=1e-05, momentum=0.1, affine=True, track_running_stats=True)\n",
      "    (10): LeakyReLU(negative_slope=0.01)\n",
      "    (11): Linear(in_features=128, out_features=64, bias=True)\n",
      "    (12): BatchNorm1d(64, eps=1e-05, momentum=0.1, affine=True, track_running_stats=True)\n",
      "    (13): LeakyReLU(negative_slope=0.01)\n",
      "    (14): Linear(in_features=64, out_features=1, bias=True)\n",
      "  )\n",
      ")\n"
     ]
    }
   ],
   "source": [
    "basic_model = NeuralNetwork().to(device=device)\n",
    "print(basic_model)\n",
    "\n",
    "# define parameters\n",
    "learning_rate = 1e-3\n",
    "\n",
    "# define lose function\n",
    "loss_fn_train = nn.MSELoss()\n",
    "loss_fn_test = nn.L1Loss()\n",
    "\n",
    "# define optimizer\n",
    "optimizer = torch.optim.SGD(basic_model.parameters(), lr=learning_rate)"
   ]
  },
  {
   "cell_type": "code",
   "execution_count": 49,
   "metadata": {},
   "outputs": [
    {
     "name": "stdout",
     "output_type": "stream",
     "text": [
      "Epoch 1\n",
      "-------------------------------\n",
      "loss: 2.327014  [    0/10575]\n",
      "loss: 1.796290  [ 2560/10575]\n",
      "loss: 2.297159  [ 5120/10575]\n",
      "loss: 2.170985  [ 7680/10575]\n",
      "loss: 2.059065  [10240/10575]\n",
      "Test Error: \n",
      " Accuracy: 66.2%, Avg loss: 2.262370 \n",
      "\n",
      "Epoch 2\n",
      "-------------------------------\n",
      "loss: 1.943143  [    0/10575]\n",
      "loss: 2.140018  [ 2560/10575]\n",
      "loss: 2.061374  [ 5120/10575]\n",
      "loss: 1.936889  [ 7680/10575]\n",
      "loss: 2.001045  [10240/10575]\n",
      "Test Error: \n",
      " Accuracy: 66.4%, Avg loss: 2.247016 \n",
      "\n",
      "Epoch 3\n",
      "-------------------------------\n",
      "loss: 2.144047  [    0/10575]\n",
      "loss: 2.102132  [ 2560/10575]\n",
      "loss: 2.505889  [ 5120/10575]\n",
      "loss: 1.972073  [ 7680/10575]\n",
      "loss: 1.817630  [10240/10575]\n",
      "Test Error: \n",
      " Accuracy: 67.0%, Avg loss: 2.186092 \n",
      "\n",
      "Epoch 4\n",
      "-------------------------------\n",
      "loss: 1.574930  [    0/10575]\n",
      "loss: 2.174658  [ 2560/10575]\n",
      "loss: 1.908318  [ 5120/10575]\n",
      "loss: 1.778598  [ 7680/10575]\n",
      "loss: 2.281271  [10240/10575]\n",
      "Test Error: \n",
      " Accuracy: 67.4%, Avg loss: 2.165662 \n",
      "\n",
      "Epoch 5\n",
      "-------------------------------\n",
      "loss: 2.187382  [    0/10575]\n",
      "loss: 2.262642  [ 2560/10575]\n",
      "loss: 2.268371  [ 5120/10575]\n",
      "loss: 1.934538  [ 7680/10575]\n",
      "loss: 2.106529  [10240/10575]\n",
      "Test Error: \n",
      " Accuracy: 66.8%, Avg loss: 2.204608 \n",
      "\n",
      "Epoch 6\n",
      "-------------------------------\n",
      "loss: 1.852583  [    0/10575]\n",
      "loss: 1.920095  [ 2560/10575]\n",
      "loss: 2.069466  [ 5120/10575]\n",
      "loss: 1.808948  [ 7680/10575]\n",
      "loss: 1.958625  [10240/10575]\n",
      "Test Error: \n",
      " Accuracy: 67.0%, Avg loss: 2.184014 \n",
      "\n",
      "Epoch 7\n",
      "-------------------------------\n",
      "loss: 1.674271  [    0/10575]\n",
      "loss: 2.473782  [ 2560/10575]\n",
      "loss: 2.050884  [ 5120/10575]\n",
      "loss: 1.806993  [ 7680/10575]\n",
      "loss: 2.215739  [10240/10575]\n",
      "Test Error: \n",
      " Accuracy: 66.8%, Avg loss: 2.208587 \n",
      "\n",
      "Epoch 8\n",
      "-------------------------------\n",
      "loss: 1.844577  [    0/10575]\n",
      "loss: 2.280769  [ 2560/10575]\n",
      "loss: 1.913953  [ 5120/10575]\n",
      "loss: 2.430182  [ 7680/10575]\n",
      "loss: 1.848406  [10240/10575]\n",
      "Test Error: \n",
      " Accuracy: 67.6%, Avg loss: 2.140155 \n",
      "\n",
      "Epoch 9\n",
      "-------------------------------\n",
      "loss: 1.742630  [    0/10575]\n",
      "loss: 1.903600  [ 2560/10575]\n",
      "loss: 1.698815  [ 5120/10575]\n",
      "loss: 2.090808  [ 7680/10575]\n",
      "loss: 1.975199  [10240/10575]\n",
      "Test Error: \n",
      " Accuracy: 67.1%, Avg loss: 2.181786 \n",
      "\n",
      "Epoch 10\n",
      "-------------------------------\n",
      "loss: 1.928336  [    0/10575]\n",
      "loss: 2.096411  [ 2560/10575]\n",
      "loss: 2.109689  [ 5120/10575]\n",
      "loss: 1.884049  [ 7680/10575]\n",
      "loss: 2.402568  [10240/10575]\n",
      "Test Error: \n",
      " Accuracy: 67.7%, Avg loss: 2.122365 \n",
      "\n",
      "Done!!\n"
     ]
    }
   ],
   "source": [
    "# set epoch\n",
    "epoch = 10\n",
    "\n",
    "# start training\n",
    "for t in range(epoch):\n",
    "    print(f\"Epoch {t+1}\\n-------------------------------\")\n",
    "    train(basic_model, dataloader_train_02346, loss_fn_train, optimizer)\n",
    "    test(basic_model, dataloader_test_02346, loss_fn_train, loss_fn_test)\n",
    "print(\"Done!!\")\n",
    "\n",
    "# model saving\n",
    "torch.save(basic_model.state_dict(), \"model.pth\")"
   ]
  },
  {
   "attachments": {},
   "cell_type": "markdown",
   "metadata": {},
   "source": [
    "### <font color=#FF0000>Visualization reference (non-used yet) <font>"
   ]
  },
  {
   "attachments": {},
   "cell_type": "markdown",
   "metadata": {},
   "source": [
    "#### single bounding box testing "
   ]
  },
  {
   "cell_type": "code",
   "execution_count": null,
   "metadata": {},
   "outputs": [],
   "source": [
    "def box(col, row, box_x, box_y):    # position + length / width (visualization usage)\n",
    "    view = torch.zeros([28*3, 28*4], dtype=torch.float32)\n",
    "    # set the box, outside the target with one pixel\n",
    "    view[row-box_y:row+1, col-box_x] = 1\n",
    "    view[row-box_y:row+1, col] = 1\n",
    "    view[row-box_y, col-box_x:col+1] = 1\n",
    "    view[row, col-box_x:col+1] = 1\n",
    "    return view"
   ]
  },
  {
   "cell_type": "code",
   "execution_count": null,
   "metadata": {},
   "outputs": [],
   "source": [
    "import torch\n",
    "import matplotlib.pyplot as plt\n",
    "from matplotlib.pyplot import pause\n",
    "from random import randint\n",
    "from copy import deepcopy\n",
    "\n",
    "rand_x = randint(14, 27)\n",
    "rand_y = randint(27, 28*3-1)\n",
    "print(\"new start position [x, y] = [\", rand_x,\",\", rand_y, \"]\")\n",
    "\n",
    "rand_start = deepcopy(aug_sample)\n",
    "box_origin = box(27, 21, 27, 15)    # array for visualization, the only manual input part\n",
    "box_sample = deepcopy(box_origin)\n",
    "\n",
    "plt.imshow(rand_start, cmap='gray')\n",
    "plt.imshow(box_origin, cmap='gray', alpha=0.3)\n",
    "pause(0.1)\n",
    "\n",
    "# initial movement\n",
    "for i in range(28):\n",
    "    for j in range(28):\n",
    "        rand_start[rand_y-i][rand_x-j] = rand_start[27-i][27-j]\n",
    "\n",
    "for i in range(29):\n",
    "    for j in range(29):\n",
    "        box_origin[rand_y-i+1][rand_x-j+1] = box_origin[28-i][28-j]\n",
    "\n",
    "# clean other part\n",
    "rand_start[:rand_y-28+1, :] = 0\n",
    "rand_start[:, rand_x+1:rand_x+28+1] = 0\n",
    "box_origin[:rand_y-28, :] = 0       # 1-pixel cleaning region difference\n",
    "box_origin[:, rand_x+1:rand_x+28+1] = 0\n",
    "\n",
    "plt.imshow(rand_start, cmap='gray')\n",
    "plt.imshow(box_origin, cmap='gray', alpha=0.3)\n",
    "pause(0.1)\n"
   ]
  },
  {
   "attachments": {},
   "cell_type": "markdown",
   "metadata": {},
   "source": [
    "#### sequential bounding box visualization and random position"
   ]
  },
  {
   "cell_type": "code",
   "execution_count": null,
   "metadata": {},
   "outputs": [],
   "source": [
    "from math import floor, ceil\n",
    "from torch import cat\n",
    "import matplotlib.pyplot as plt\n",
    "from matplotlib.pyplot import pause\n",
    "from copy import deepcopy"
   ]
  },
  {
   "cell_type": "markdown",
   "metadata": {},
   "source": [
    "sequential box preparation"
   ]
  },
  {
   "cell_type": "code",
   "execution_count": null,
   "metadata": {},
   "outputs": [],
   "source": [
    "# initialization\n",
    "stride = 5\n",
    "first_frame = deepcopy(box_sample)\n",
    "next_frame = deepcopy(box_sample)\n",
    "y_box = deepcopy(box_sample)\n",
    "\n",
    "# show info\n",
    "print(y_box.size())\n",
    "plt.imshow(y_box, cmap='gray')\n",
    "pause(0.1)\n",
    "\n",
    "for i in range(floor((112-28)/stride)):\n",
    "   # moving part (1-dim only)\n",
    "   for j in range(30):  # bigger range to cover bounding box\n",
    "      next_frame[:, 30+stride*(i+1)-(j+1)] = next_frame[:, 30+stride*i-(j+1)]\n",
    "   next_frame[:, :stride*(i+1)] = 0  # clean other area\n",
    "   \n",
    "   # sequencing part\n",
    "   if i == 0:\n",
    "      y_box = stack((first_frame, next_frame)) \n",
    "   else:\n",
    "      y_box = cat((y_box, next_frame.reshape(1, 28*3, 28*4)), dim=0)\n",
    "      \n",
    "   # # show info\n",
    "   # print(y_box.size())\n",
    "   # plt.imshow(y_box[i+1], cmap='gray')\n",
    "   # pause(0.1)"
   ]
  },
  {
   "cell_type": "markdown",
   "metadata": {},
   "source": [
    "parallel moving and concat last frames"
   ]
  },
  {
   "cell_type": "code",
   "execution_count": null,
   "metadata": {},
   "outputs": [],
   "source": [
    "# sequential data preparation\n",
    "y_box_moved = deepcopy(y_box)\n",
    "y_moved = deepcopy(y)\n",
    "rand_x = randint(14, 27)\n",
    "rand_y = randint(27, 28*3-1)\n",
    "print(\"new start position [x, y] = [\", rand_x,\",\", rand_y, \"]\")\n",
    "\n",
    "# # visualization for no parallel movement\n",
    "# for i in range(len(y_box_moved)):\n",
    "#     plt.imshow(y_moved[i], cmap='gray')\n",
    "#     plt.imshow(y_box_moved[i], cmap='gray', alpha=0.3)\n",
    "#     pause(0.1)\n",
    "\n",
    "# all frames move left parellel\n",
    "for i in range(floor((112-28)/stride)+1): \n",
    "    # moving items\n",
    "    for j in range(28):\n",
    "        for k in range(28):\n",
    "            y_moved[i][rand_y-j][rand_x+stride*i-k] = y_moved[i][27-j][27+stride*i-k]\n",
    "    # moving box\n",
    "    for j in range(29):\n",
    "        for k in range(29):\n",
    "            y_box_moved[i][rand_y-j+1][rand_x+stride*i-k+1] = y_box_moved[i][28-j][28+stride*i-k]\n",
    "          \n",
    "    # clean other area\n",
    "    y_moved[i][:rand_y-28+1, :] = 0\n",
    "    y_moved[i][:, rand_x+stride*i+1:] = 0\n",
    "    y_box_moved[i][:rand_y-28+1, :] = 0\n",
    "    y_box_moved[i][:, rand_x+stride*i+1:] = 0\n",
    "   \n",
    "    # show info\n",
    "    plt.imshow(y_moved[i], cmap='gray')\n",
    "    plt.imshow(y_box_moved[i], cmap='gray', alpha=0.3)\n",
    "    pause(0.1)\n",
    "\n",
    "# initialization\n",
    "frame_old = len(y_moved)   # number of old frames\n",
    "next_frame = deepcopy(y_moved[frame_old-1])\n",
    "next_frame_box = deepcopy(y_box_moved[frame_old-1])\n",
    "\n",
    "# last frame moves right and cat\n",
    "for i in range(ceil((28-rand_x)/stride)+1):\n",
    "    # move next frame\n",
    "    for j in range(28):\n",
    "        if rand_x+stride*(frame_old+i)-j < 112:\n",
    "           next_frame[:, rand_x+stride*(frame_old+i)-j] = next_frame[:, rand_x+stride*(frame_old+i-1)-j]\n",
    "    for j in range(29):\n",
    "        if rand_x+stride*(frame_old+i)-j+1 < 112:\n",
    "           next_frame_box[:, rand_x+stride*(frame_old+i)-j+1] = next_frame_box[:, rand_x+stride*(frame_old+i-1)-j+1]\n",
    "    # clean and cat\n",
    "    next_frame[:, :rand_x+stride*(frame_old+i)-28+1] = 0\n",
    "    y_moved = cat((y_moved, next_frame.reshape(1, 28*3, 28*4)), dim=0)\n",
    "    next_frame_box[:, :rand_x+stride*(frame_old+i)-28+1] = 0\n",
    "    y_box_moved = cat((y_box_moved, next_frame_box.reshape(1, 28*3, 28*4)), dim=0)\n",
    "   \n",
    "    # show info\n",
    "    plt.imshow(y_moved[frame_old+i], cmap='gray')\n",
    "    plt.imshow(y_box_moved[frame_old+i], cmap='gray', alpha=0.3)\n",
    "    pause(0.1)\n",
    "\n",
    "print(y_moved.size())"
   ]
  },
  {
   "cell_type": "code",
   "execution_count": null,
   "metadata": {},
   "outputs": [],
   "source": []
  }
 ],
 "metadata": {
  "kernelspec": {
   "display_name": "Python 3.8.13 ('auto_labeling')",
   "language": "python",
   "name": "python3"
  },
  "language_info": {
   "codemirror_mode": {
    "name": "ipython",
    "version": 3
   },
   "file_extension": ".py",
   "mimetype": "text/x-python",
   "name": "python",
   "nbconvert_exporter": "python",
   "pygments_lexer": "ipython3",
   "version": "3.8.13"
  },
  "orig_nbformat": 4,
  "vscode": {
   "interpreter": {
    "hash": "ec129e0590d45a22483b850cd1c473456f2c02a48b73be1599d608a53736fee7"
   }
  }
 },
 "nbformat": 4,
 "nbformat_minor": 2
}
